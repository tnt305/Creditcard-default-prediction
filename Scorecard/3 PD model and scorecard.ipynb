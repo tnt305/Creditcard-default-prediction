{
 "cells": [
  {
   "cell_type": "code",
   "execution_count": 206,
   "metadata": {},
   "outputs": [],
   "source": [
    "import pandas as pd\n",
    "import numpy as np\n",
    "import seaborn as sns\n",
    "import matplotlib.pyplot as plt\n",
    "pd.options.display.max_rows = 4000\n",
    "pd.options.display.max_columns\n",
    "pd.options.display.float_format = '{:.3f}'.format \n",
    "np.set_printoptions(suppress=True, precision=5)\n",
    "\n",
    "import warnings\n",
    "warnings.filterwarnings(\"ignore\")"
   ]
  },
  {
   "cell_type": "code",
   "execution_count": 278,
   "metadata": {},
   "outputs": [
    {
     "data": {
      "text/html": [
       "<div>\n",
       "<style scoped>\n",
       "    .dataframe tbody tr th:only-of-type {\n",
       "        vertical-align: middle;\n",
       "    }\n",
       "\n",
       "    .dataframe tbody tr th {\n",
       "        vertical-align: top;\n",
       "    }\n",
       "\n",
       "    .dataframe thead th {\n",
       "        text-align: right;\n",
       "    }\n",
       "</style>\n",
       "<table border=\"1\" class=\"dataframe\">\n",
       "  <thead>\n",
       "    <tr style=\"text-align: right;\">\n",
       "      <th></th>\n",
       "      <th>term</th>\n",
       "      <th>int_rate</th>\n",
       "      <th>grade</th>\n",
       "      <th>home_ownership</th>\n",
       "      <th>annual_inc</th>\n",
       "      <th>verification_status</th>\n",
       "      <th>purpose</th>\n",
       "      <th>dti</th>\n",
       "      <th>total_rec_late_fee</th>\n",
       "      <th>loan_issue_m</th>\n",
       "      <th>loan_status</th>\n",
       "    </tr>\n",
       "  </thead>\n",
       "  <tbody>\n",
       "    <tr>\n",
       "      <th>0</th>\n",
       "      <td>36</td>\n",
       "      <td>(9.548, 11.612]</td>\n",
       "      <td>B</td>\n",
       "      <td>RENT</td>\n",
       "      <td>(1895, 30000]</td>\n",
       "      <td>Verified</td>\n",
       "      <td>credit_card</td>\n",
       "      <td>(23.994, 27.993]</td>\n",
       "      <td>(-0.1, 35.868]</td>\n",
       "      <td>(30.0, 80.0]</td>\n",
       "      <td>0</td>\n",
       "    </tr>\n",
       "    <tr>\n",
       "      <th>1</th>\n",
       "      <td>60</td>\n",
       "      <td>(13.676, 15.74]</td>\n",
       "      <td>C</td>\n",
       "      <td>RENT</td>\n",
       "      <td>(1895, 30000]</td>\n",
       "      <td>Source Verified</td>\n",
       "      <td>car</td>\n",
       "      <td>(-0.04, 3.999]</td>\n",
       "      <td>(-0.1, 35.868]</td>\n",
       "      <td>(30.0, 80.0]</td>\n",
       "      <td>1</td>\n",
       "    </tr>\n",
       "    <tr>\n",
       "      <th>2</th>\n",
       "      <td>36</td>\n",
       "      <td>(15.74, 17.804]</td>\n",
       "      <td>C</td>\n",
       "      <td>RENT</td>\n",
       "      <td>(1895, 30000]</td>\n",
       "      <td>Not Verified</td>\n",
       "      <td>small_business</td>\n",
       "      <td>(7.998, 11.997]</td>\n",
       "      <td>(-0.1, 35.868]</td>\n",
       "      <td>(30.0, 80.0]</td>\n",
       "      <td>0</td>\n",
       "    </tr>\n",
       "    <tr>\n",
       "      <th>3</th>\n",
       "      <td>36</td>\n",
       "      <td>(11.612, 13.676]</td>\n",
       "      <td>C</td>\n",
       "      <td>RENT</td>\n",
       "      <td>(30000, 100000]</td>\n",
       "      <td>Source Verified</td>\n",
       "      <td>other</td>\n",
       "      <td>(19.995, 23.994]</td>\n",
       "      <td>(-0.1, 35.868]</td>\n",
       "      <td>(30.0, 80.0]</td>\n",
       "      <td>0</td>\n",
       "    </tr>\n",
       "    <tr>\n",
       "      <th>4</th>\n",
       "      <td>36</td>\n",
       "      <td>(7.484, 9.548]</td>\n",
       "      <td>A</td>\n",
       "      <td>RENT</td>\n",
       "      <td>(30000, 100000]</td>\n",
       "      <td>Source Verified</td>\n",
       "      <td>wedding</td>\n",
       "      <td>(7.998, 11.997]</td>\n",
       "      <td>(-0.1, 35.868]</td>\n",
       "      <td>(30.0, 80.0]</td>\n",
       "      <td>0</td>\n",
       "    </tr>\n",
       "  </tbody>\n",
       "</table>\n",
       "</div>"
      ],
      "text/plain": [
       "   term          int_rate grade home_ownership       annual_inc  \\\n",
       "0    36   (9.548, 11.612]     B           RENT    (1895, 30000]   \n",
       "1    60   (13.676, 15.74]     C           RENT    (1895, 30000]   \n",
       "2    36   (15.74, 17.804]     C           RENT    (1895, 30000]   \n",
       "3    36  (11.612, 13.676]     C           RENT  (30000, 100000]   \n",
       "4    36    (7.484, 9.548]     A           RENT  (30000, 100000]   \n",
       "\n",
       "  verification_status         purpose               dti total_rec_late_fee  \\\n",
       "0            Verified     credit_card  (23.994, 27.993]     (-0.1, 35.868]   \n",
       "1     Source Verified             car    (-0.04, 3.999]     (-0.1, 35.868]   \n",
       "2        Not Verified  small_business   (7.998, 11.997]     (-0.1, 35.868]   \n",
       "3     Source Verified           other  (19.995, 23.994]     (-0.1, 35.868]   \n",
       "4     Source Verified         wedding   (7.998, 11.997]     (-0.1, 35.868]   \n",
       "\n",
       "   loan_issue_m  loan_status  \n",
       "0  (30.0, 80.0]            0  \n",
       "1  (30.0, 80.0]            1  \n",
       "2  (30.0, 80.0]            0  \n",
       "3  (30.0, 80.0]            0  \n",
       "4  (30.0, 80.0]            0  "
      ]
     },
     "execution_count": 278,
     "metadata": {},
     "output_type": "execute_result"
    }
   ],
   "source": [
    "#import\n",
    "df = pd.read_csv(r'E:\\learn st new\\Credit score\\loan_LG_model.csv', low_memory= False)\n",
    "df.head()"
   ]
  },
  {
   "cell_type": "code",
   "execution_count": 322,
   "metadata": {},
   "outputs": [],
   "source": [
    "import ast\n",
    "\n",
    "import pandas as pd\n",
    "\n",
    "\n",
    "def interval_type(s):\n",
    "    \"\"\"Parse interval string to Interval\"\"\"\n",
    "    \n",
    "    table = str.maketrans({'[': '(', ']': ')'})\n",
    "    left_closed = s.startswith('[')\n",
    "    right_closed = s.endswith(']')\n",
    "\n",
    "    left, right = ast.literal_eval(s.translate(table))\n",
    "\n",
    "    t = 'neither'\n",
    "    if left_closed and right_closed:\n",
    "        t = 'both'\n",
    "    elif left_closed:\n",
    "        t = 'left'\n",
    "    elif right_closed:\n",
    "        t = 'right'\n",
    "\n",
    "    return pd.Interval(left, right, closed=t)\n"
   ]
  },
  {
   "cell_type": "code",
   "execution_count": 143,
   "metadata": {},
   "outputs": [],
   "source": [
    "def woe_discrete(df,independent_variable,dependent_variable):\n",
    "    df = pd.concat([df[independent_variable],dependent_variable],axis=1)\n",
    "    df = pd.concat([df.groupby(df.columns.values[0],as_index=False)[df.columns.values[1]].count(),\n",
    "                    df.groupby(df.columns.values[0],as_index=False)[df.columns.values[1]].mean()],axis=1)\n",
    "    df = df.iloc[:,[0,1,3]]\n",
    "    \n",
    "    df.columns = [df.columns.values[0],'n_obs','prop_bad']\n",
    "    df['no_bad'] = df['prop_bad'] * df['n_obs']\n",
    "    df['no_good'] = (1- df['prop_bad']) * df['n_obs']\n",
    "    df['Final_good'] = df['no_good']/df['no_good'].sum()\n",
    "    df['Final_bad'] = df['no_bad']/df['no_bad'].sum()\n",
    "    df['WOE'] = np.log(df['Final_good']/df['Final_bad'])\n",
    "\n",
    "    \n",
    "    df = df.sort_values(['WOE'])\n",
    "    df = df.reset_index(drop=True)\n",
    "    df['diff_WoE'] = df['WOE'].diff().abs()\n",
    "    df['IV'] = (df['Final_good']-df['Final_bad']) * df['WOE']\n",
    "    df['IV_total'] = df['IV'].sum()\n",
    "    # print('===================== Information value of ' +independent_variable+' is '+ str(round(df['IV'].sum(),3))+' ===================')\n",
    "    return df"
   ]
  },
  {
   "cell_type": "code",
   "execution_count": 208,
   "metadata": {},
   "outputs": [],
   "source": [
    "input =df.drop(columns = 'loan_status')\n",
    "output = df['loan_status']"
   ]
  },
  {
   "cell_type": "code",
   "execution_count": 209,
   "metadata": {},
   "outputs": [
    {
     "name": "stdout",
     "output_type": "stream",
     "text": [
      "Information value of term is 0.162529\n",
      "Information value of int_rate is 0.408432\n",
      "Information value of grade is 0.395871\n",
      "Information value of home_ownership is 0.013465\n",
      "Information value of annual_inc is 0.027706\n",
      "Information value of verification_status is 0.043537\n",
      "Information value of purpose is 0.025231\n",
      "Information value of dti is 0.09645\n",
      "Information value of total_rec_late_fee is 0.047785\n",
      "Information value of loan_issue_m is 0.062559\n"
     ]
    }
   ],
   "source": [
    "def iv_woe(data, target, bins=10, show_woe=False):\n",
    "    \n",
    "    newDF,woeDF = pd.DataFrame(), pd.DataFrame()\n",
    "    cols = data.columns\n",
    "    \n",
    "    #Run WoE and IV on all the independent variables\n",
    "    for ivars in cols[~cols.isin([target])]:\n",
    "        if (data[ivars].dtype.kind in 'bifc') and (len(np.unique(data[ivars]))>10):\n",
    "            binned_x = pd.qcut(data[ivars], bins,  duplicates='drop')\n",
    "            d0 = pd.DataFrame({'x': binned_x, 'y': data[target]})\n",
    "        else:\n",
    "            d0 = pd.DataFrame({'x': data[ivars], 'y': data[target]})\n",
    "        d = d0.groupby(\"x\", as_index=False).agg({\"y\": [\"count\", \"sum\"]})\n",
    "        d.columns = ['Cutoff', 'N', 'Events']\n",
    "        d['% of Events'] = np.maximum(d['Events'], 0.5) / d['Events'].sum()\n",
    "        d['Non-Events'] = d['N'] - d['Events']\n",
    "        d['% of Non-Events'] = np.maximum(d['Non-Events'], 0.5) / d['Non-Events'].sum()\n",
    "        d['WoE'] = np.log(d['% of Events']/d['% of Non-Events'])\n",
    "        d['IV'] = d['WoE'] * (d['% of Events'] - d['% of Non-Events'])\n",
    "        d.insert(loc=0, column='Variable', value=ivars)\n",
    "        print(\"Information value of \" + ivars + \" is \" + str(round(d['IV'].sum(),6)))\n",
    "        temp =pd.DataFrame({\"Variable\" : [ivars], \"IV\" : [d['IV'].sum()]}, columns = [\"Variable\", \"IV\"])\n",
    "        newDF=pd.concat([newDF,temp], axis=0)\n",
    "        woeDF=pd.concat([woeDF,d], axis=0)\n",
    "\n",
    "        if show_woe == True:\n",
    "            print(d)\n",
    "            \n",
    "    return newDF, woeDF\n",
    "\n",
    "iv, woe = iv_woe(df, target='loan_status', bins=10)"
   ]
  },
  {
   "cell_type": "code",
   "execution_count": 323,
   "metadata": {},
   "outputs": [],
   "source": [
    "woe = woe[['Variable', 'Cutoff','WoE']]"
   ]
  },
  {
   "cell_type": "code",
   "execution_count": 212,
   "metadata": {},
   "outputs": [],
   "source": [
    "woe = woe.reset_index()"
   ]
  },
  {
   "cell_type": "code",
   "execution_count": 213,
   "metadata": {},
   "outputs": [],
   "source": [
    "input['term'] = input['term'].replace(36, -0.243)\n",
    "input['term'] = input['term'].replace(60, 0.679)\n",
    "\n",
    "input['int_rate'] = input['int_rate'].replace('(11.612, 13.676]', 0.228)\n",
    "input['int_rate'] = input['int_rate'].replace('(13.676, 15.74]', 0.102)\n",
    "input['int_rate'] = input['int_rate'].replace('(15.74, 17.804]', 0.398)\n",
    "input['int_rate'] = input['int_rate'].replace('(17.804, 19.868]',0.603)\n",
    "input['int_rate'] = input['int_rate'].replace('(19.868, 21.932]', 0.830)\n",
    "input['int_rate'] = input['int_rate'].replace('(21.932, 23.996]', 1.039)\n",
    "input['int_rate'] = input['int_rate'].replace('(23.996, 26.06]', 1.223)\n",
    "input['int_rate'] = input['int_rate'].replace('(5.399, 7.484]', -1.680)\n",
    "input['int_rate'] = input['int_rate'].replace('(7.484, 9.548]', -1.009)\n",
    "input['int_rate'] = input['int_rate'].replace('(9.548, 11.612]', -0.586)\n",
    "\n",
    "input['grade'] = input['grade'].replace('A',-1.241)\n",
    "input['grade'] = input['grade'].replace('B',-0.440)\n",
    "input['grade'] = input['grade'].replace('C',0.132)\n",
    "input['grade'] = input['grade'].replace('D',0.490)\n",
    "input['grade'] = input['grade'].replace('E',0.845)\n",
    "input['grade'] = input['grade'].replace('F',1.055)\n",
    "input['grade'] = input['grade'].replace('G',1.173)\n",
    "\n",
    "input['home_ownership'] = input['home_ownership'].replace('MORTGAGE', -0.121)\n",
    "input['home_ownership'] = input['home_ownership'].replace('OWN', 0.066)\n",
    "input['home_ownership'] = input['home_ownership'].replace('RENT', 0.118)\n",
    "\n",
    "input['annual_inc'] = input['annual_inc'].replace('(100000, 300000]', -0.357)\n",
    "input['annual_inc'] = input['annual_inc'].replace('(1895, 30000]', 0.318)\n",
    "input['annual_inc'] = input['annual_inc'].replace('(30000, 100000]', 0.030)\n",
    "input['annual_inc'] = input['annual_inc'].replace('(300000, 7500000]', -0.459)\n",
    "\n",
    "input['verification_status'] = input['verification_status'].replace('Not Verified', -0.305)\n",
    "input['verification_status'] = input['verification_status'].replace('Source Verified', 0.122)\n",
    "input['verification_status'] = input['verification_status'].replace('Verified', 0.158)\n",
    "\n",
    "input['purpose'] = input['purpose'].replace('car',-0.557)\n",
    "input['purpose'] = input['purpose'].replace('credit_card',\t-0.152)\n",
    "input['purpose'] = input['purpose'].replace('debt_consolidation',\t0.062)\n",
    "input['purpose'] = input['purpose'].replace('educational',\t-0.054)\n",
    "input['purpose'] = input['purpose'].replace('home_improvement'\t,-0.164)\n",
    "input['purpose'] = input['purpose'].replace('house',\t-0.063)\n",
    "input['purpose'] = input['purpose'].replace('major_purchase',\t-0.384)\n",
    "input['purpose'] = input['purpose'].replace('medical',\t0.052)\n",
    "input['purpose'] = input['purpose'].replace('moving',\t0.144)\n",
    "input['purpose'] = input['purpose'].replace('renewable_energy',\t-0.069)\n",
    "input['purpose'] = input['purpose'].replace('small_business',\t0.526)\n",
    "input['purpose'] = input['purpose'].replace('vacation',\t-0.071)\n",
    "input['purpose'] = input['purpose'].replace('wedding',\t-0.567)\n",
    "input['purpose'] = input['purpose'].replace('other'\t,0.135)\n",
    "\n",
    "input['dti'] = input['dti'].replace('(-0.04, 3.999]',\t-0.512)\n",
    "input['dti'] = input['dti'].replace('(11.997, 15.996]',\t-0.151)\n",
    "input['dti'] = input['dti'].replace('(15.996, 19.995]',\t0.023)\n",
    "input['dti'] = input['dti'].replace('(19.995, 23.994]',\t0.171)\n",
    "input['dti'] = input['dti'].replace('(23.994, 27.993]',\t0.367)\n",
    "input['dti'] = input['dti'].replace('(27.993, 31.992]',\t0.535)\n",
    "input['dti'] = input['dti'].replace('(3.999, 7.998]',\t-0.428)\n",
    "input['dti'] = input['dti'].replace('(31.992, 35.991]',\t0.657)\n",
    "input['dti'] = input['dti'].replace('(35.991, 39.99]',\t1.360)\n",
    "input['dti'] = input['dti'].replace('(35.991, 39.99]',\t1.360)\n",
    "input['dti'] = input['dti'].replace('(7.998, 11.997]',\t-0.275)\n",
    "\n",
    "input['total_rec_late_fee'] =input['total_rec_late_fee'].replace('(-0.1, 35.868]', -0.022)\n",
    "input['total_rec_late_fee'] =input['total_rec_late_fee'].replace('(35.868, 358.68]', 2.219)\n",
    "\n",
    "input['loan_issue_m']= input['loan_issue_m'].replace('(-0.1, 15.0]', 0.361)\n",
    "input['loan_issue_m']= input['loan_issue_m'].replace('(15.0, 17.0]', 0.301)\n",
    "input['loan_issue_m']= input['loan_issue_m'].replace('(17.0, 20.0]', 0.289)\n",
    "input['loan_issue_m']= input['loan_issue_m'].replace('(20.0, 30.0]', 0.135)\n",
    "input['loan_issue_m']= input['loan_issue_m'].replace('(30.0, 80.0]', -0.267)\n",
    "input['loan_issue_m']= input['loan_issue_m'].replace('(80.0, 100.0]', -0.105)"
   ]
  },
  {
   "cell_type": "code",
   "execution_count": 214,
   "metadata": {},
   "outputs": [
    {
     "name": "stdout",
     "output_type": "stream",
     "text": [
      "Variables in Train Set : 190116 & Test Set : 47529\n"
     ]
    },
    {
     "data": {
      "text/plain": [
       "0    148826\n",
       "1     41290\n",
       "Name: loan_status, dtype: int64"
      ]
     },
     "execution_count": 214,
     "metadata": {},
     "output_type": "execute_result"
    }
   ],
   "source": [
    "#Chia train -test data\n",
    "from sklearn.model_selection import train_test_split\n",
    "x_train, x_test, y_train, y_test = train_test_split(input, output, test_size=0.2)\n",
    "\n",
    "#kết quả\n",
    "print(\"Variables in Train Set : {} & Test Set : {}\".format(len(x_train), len(x_test)))\n",
    "y_train.value_counts()"
   ]
  },
  {
   "cell_type": "code",
   "execution_count": 215,
   "metadata": {},
   "outputs": [
    {
     "name": "stdout",
     "output_type": "stream",
     "text": [
      "Shape of X before SMOTE: (190116, 10)\n",
      "Shape of X after SMOTE: (297652, 10)\n",
      "\n",
      "Balance of positive and negative classes (%):\n"
     ]
    },
    {
     "data": {
      "text/plain": [
       "1    148826\n",
       "0    148826\n",
       "Name: loan_status, dtype: int64"
      ]
     },
     "execution_count": 215,
     "metadata": {},
     "output_type": "execute_result"
    }
   ],
   "source": [
    "from imblearn.over_sampling import SMOTE\n",
    "\n",
    "# Upsampling with SMOTE algorithm\n",
    "smote = SMOTE(random_state= None ,k_neighbors= 5)\n",
    "\n",
    "x_train_o, y_train_o = smote.fit_resample(x_train, y_train)\n",
    "\n",
    "print(f'''Shape of X before SMOTE: {x_train.shape}\n",
    "Shape of X after SMOTE: {x_train_o.shape}''')\n",
    "\n",
    "print('\\nBalance of positive and negative classes (%):')\n",
    "y_train_o.value_counts()"
   ]
  },
  {
   "cell_type": "code",
   "execution_count": 216,
   "metadata": {},
   "outputs": [
    {
     "name": "stdout",
     "output_type": "stream",
     "text": [
      "Best: 0.787921 using {'C': 10, 'penalty': 'l2', 'solver': 'liblinear'}\n",
      "0.787915 (0.001241) with: {'C': 100, 'penalty': 'l2', 'solver': 'newton-cg'}\n",
      "0.787914 (0.001243) with: {'C': 100, 'penalty': 'l2', 'solver': 'lbfgs'}\n",
      "0.787919 (0.001245) with: {'C': 100, 'penalty': 'l2', 'solver': 'liblinear'}\n",
      "0.787921 (0.001236) with: {'C': 10, 'penalty': 'l2', 'solver': 'newton-cg'}\n",
      "0.787921 (0.001235) with: {'C': 10, 'penalty': 'l2', 'solver': 'lbfgs'}\n",
      "0.787921 (0.001244) with: {'C': 10, 'penalty': 'l2', 'solver': 'liblinear'}\n",
      "0.787919 (0.001233) with: {'C': 1.0, 'penalty': 'l2', 'solver': 'newton-cg'}\n",
      "0.787919 (0.001227) with: {'C': 1.0, 'penalty': 'l2', 'solver': 'lbfgs'}\n",
      "0.787914 (0.001234) with: {'C': 1.0, 'penalty': 'l2', 'solver': 'liblinear'}\n",
      "0.787919 (0.001245) with: {'C': 0.1, 'penalty': 'l2', 'solver': 'newton-cg'}\n",
      "0.787919 (0.001248) with: {'C': 0.1, 'penalty': 'l2', 'solver': 'lbfgs'}\n",
      "0.787917 (0.001241) with: {'C': 0.1, 'penalty': 'l2', 'solver': 'liblinear'}\n",
      "0.787828 (0.001258) with: {'C': 0.01, 'penalty': 'l2', 'solver': 'newton-cg'}\n",
      "0.787828 (0.001258) with: {'C': 0.01, 'penalty': 'l2', 'solver': 'lbfgs'}\n",
      "0.787830 (0.001240) with: {'C': 0.01, 'penalty': 'l2', 'solver': 'liblinear'}\n"
     ]
    }
   ],
   "source": [
    "from sklearn.datasets import make_blobs\n",
    "from sklearn.model_selection import RepeatedStratifiedKFold\n",
    "from sklearn.model_selection import GridSearchCV\n",
    "from sklearn.linear_model import LogisticRegression\n",
    "#model.fit(x_train, y_train)\n",
    "\n",
    "x_train_o, y_train_o = make_blobs(n_samples=1000, centers=2, n_features=51, cluster_std=20)\n",
    "# define models and parameters\n",
    "model = LogisticRegression()\n",
    "solvers = ['newton-cg', 'lbfgs', 'liblinear']\n",
    "penalty = ['l2']\n",
    "c_values = [100, 10, 1.0, 0.1, 0.01]\n",
    "# define grid search\n",
    "grid = dict(solver=solvers,penalty=penalty,C=c_values)\n",
    "cv = RepeatedStratifiedKFold(n_splits=10, n_repeats=3, random_state=1)\n",
    "grid_search = GridSearchCV(estimator=model, param_grid=grid, n_jobs=-1, cv=cv, scoring='accuracy',error_score=0)\n",
    "grid_result = grid_search.fit(x_train, y_train)\n",
    "# summarize results\n",
    "print(\"Best: %f using %s\" % (grid_result.best_score_, grid_result.best_params_))\n",
    "means = grid_result.cv_results_['mean_test_score']\n",
    "stds = grid_result.cv_results_['std_test_score']\n",
    "params = grid_result.cv_results_['params']\n",
    "for mean, stdev, param in zip(means, stds, params):\n",
    "    print(\"%f (%f) with: %r\" % (mean, stdev, param))\n"
   ]
  },
  {
   "cell_type": "code",
   "execution_count": 217,
   "metadata": {},
   "outputs": [
    {
     "name": "stdout",
     "output_type": "stream",
     "text": [
      "              precision    recall  f1-score   support\n",
      "\n",
      "           0       0.80      0.98      0.88     37246\n",
      "           1       0.59      0.09      0.16     10283\n",
      "\n",
      "    accuracy                           0.79     47529\n",
      "   macro avg       0.69      0.54      0.52     47529\n",
      "weighted avg       0.75      0.79      0.72     47529\n",
      "\n"
     ]
    }
   ],
   "source": [
    "from sklearn.metrics import confusion_matrix, classification_report, roc_curve, roc_auc_score, precision_recall_curve\n",
    "# Dự đoán mô hình\n",
    "y_preds = grid_search.predict(x_test)\n",
    "#classification report\n",
    "print(classification_report(y_test, y_preds))"
   ]
  },
  {
   "cell_type": "code",
   "execution_count": 218,
   "metadata": {},
   "outputs": [
    {
     "data": {
      "text/html": [
       "<div>\n",
       "<style scoped>\n",
       "    .dataframe tbody tr th:only-of-type {\n",
       "        vertical-align: middle;\n",
       "    }\n",
       "\n",
       "    .dataframe tbody tr th {\n",
       "        vertical-align: top;\n",
       "    }\n",
       "\n",
       "    .dataframe thead th {\n",
       "        text-align: right;\n",
       "    }\n",
       "</style>\n",
       "<table border=\"1\" class=\"dataframe\">\n",
       "  <thead>\n",
       "    <tr style=\"text-align: right;\">\n",
       "      <th></th>\n",
       "      <th>y_test_class_actual</th>\n",
       "      <th>y_hat_test_proba</th>\n",
       "      <th>y_hat_test</th>\n",
       "    </tr>\n",
       "  </thead>\n",
       "  <tbody>\n",
       "    <tr>\n",
       "      <th>64040</th>\n",
       "      <td>0</td>\n",
       "      <td>0.380</td>\n",
       "      <td>0</td>\n",
       "    </tr>\n",
       "    <tr>\n",
       "      <th>60667</th>\n",
       "      <td>0</td>\n",
       "      <td>0.168</td>\n",
       "      <td>0</td>\n",
       "    </tr>\n",
       "    <tr>\n",
       "      <th>220089</th>\n",
       "      <td>1</td>\n",
       "      <td>0.578</td>\n",
       "      <td>1</td>\n",
       "    </tr>\n",
       "    <tr>\n",
       "      <th>211431</th>\n",
       "      <td>1</td>\n",
       "      <td>0.658</td>\n",
       "      <td>1</td>\n",
       "    </tr>\n",
       "    <tr>\n",
       "      <th>108588</th>\n",
       "      <td>0</td>\n",
       "      <td>0.180</td>\n",
       "      <td>0</td>\n",
       "    </tr>\n",
       "  </tbody>\n",
       "</table>\n",
       "</div>"
      ],
      "text/plain": [
       "        y_test_class_actual  y_hat_test_proba  y_hat_test\n",
       "64040                     0             0.380           0\n",
       "60667                     0             0.168           0\n",
       "220089                    1             0.578           1\n",
       "211431                    1             0.658           1\n",
       "108588                    0             0.180           0"
      ]
     },
     "execution_count": 218,
     "metadata": {},
     "output_type": "execute_result"
    }
   ],
   "source": [
    "#tạo đầu vào cho Roc-auc curve\n",
    "y_hat_test_proba = grid_search.predict_proba(x_test)\n",
    "y_hat_test_proba = y_hat_test_proba[:][: , 1]\n",
    "y_test_temp = y_test.copy()\n",
    "y_test_temp.reset_index(drop = True, inplace = True)\n",
    "y_test_proba = pd.concat([y_test_temp, pd.DataFrame(y_hat_test_proba), pd.DataFrame(y_preds)], axis = 1)\n",
    "y_test_proba.columns = ['y_test_class_actual', 'y_hat_test_proba', 'y_hat_test']\n",
    "y_test_proba.index = x_test.index\n",
    "y_test_proba.head()"
   ]
  },
  {
   "cell_type": "code",
   "execution_count": 219,
   "metadata": {},
   "outputs": [
    {
     "name": "stdout",
     "output_type": "stream",
     "text": [
      "Hệ số gini của mô hình là 0.42\n"
     ]
    },
    {
     "data": {
      "image/png": "[encoded data removed]",
      "text/plain": [
       "<Figure size 600x600 with 1 Axes>"
      ]
     },
     "metadata": {},
     "output_type": "display_data"
    }
   ],
   "source": [
    "# get the values required to plot a ROC curve\n",
    "import sklearn.metrics as metrics\n",
    "fpr, tpr, thresholds = metrics.roc_curve(y_test_proba['y_test_class_actual'], y_test_proba['y_hat_test_proba'])\n",
    "roc_auc = metrics.auc(fpr, tpr)\n",
    "# roc_curve n gini\n",
    "Gini_index = round((2* roc_auc -1),2)\n",
    "print('Hệ số gini của mô hình là {}'.format(Gini_index))\n",
    "\n",
    "plt.figure(figsize = (6, 6))\n",
    "plt.plot(fpr, tpr, label = 'AUC = %0.2f' % roc_auc)\n",
    "plt.legend(loc =  'lower right')\n",
    "plt.plot([0, 1], [0, 1], 'r--')\n",
    "plt.xlim([0, 1])\n",
    "plt.ylim([0, 1])\n",
    "plt.xlabel('False positive rate')\n",
    "plt.ylabel('True positive rate')\n",
    "plt.show()\n"
   ]
  },
  {
   "attachments": {},
   "cell_type": "markdown",
   "metadata": {},
   "source": [
    "Tính điểm Scorecard\n",
    "---\n",
    "$$\n",
    "Credit Score = (beta \\cdot WOE + \\frac{alpha}{n}) \\cdot Factor + \\frac{Offset}{n}\n",
    "$$\n",
    "\n",
    "Note:\n",
    "- $ Odds =  1:50 $\n",
    "- $ Base_score = 600 $\n",
    "- $ pdo \\space là\\space mức\\space điểm\\space để \\space gấp \\space đôi \\space odds (mặc \\space định = 20) $\n",
    "- $ Factor = \\frac{pdo}{ln(2)} $\n",
    "- $ Offset = Base_score - Factor \\cdot ln(Odds) $"
   ]
  },
  {
   "cell_type": "code",
   "execution_count": 264,
   "metadata": {},
   "outputs": [],
   "source": [
    "def CreditScore(beta, alpha, woe, n = 12, odds = 1/4, pdo = -50, thres_score = 600):\n",
    "  factor = pdo/np.log(2)\n",
    "  offset = thres_score - factor*np.log(odds)\n",
    "  score = (beta*woe+alpha/n)*factor+offset/n\n",
    "  return score"
   ]
  },
  {
   "cell_type": "code",
   "execution_count": 222,
   "metadata": {},
   "outputs": [],
   "source": [
    "logit_model = LogisticRegression(solver = 'newton-cg', max_iter=1000, fit_intercept=True, tol=0.0001, C=100, penalty='l2', random_state=1)"
   ]
  },
  {
   "cell_type": "code",
   "execution_count": 227,
   "metadata": {},
   "outputs": [
    {
     "data": {
      "text/html": [
       "<style>#sk-container-id-4 {color: black;background-color: white;}#sk-container-id-4 pre{padding: 0;}#sk-container-id-4 div.sk-toggleable {background-color: white;}#sk-container-id-4 label.sk-toggleable__label {cursor: pointer;display: block;width: 100%;margin-bottom: 0;padding: 0.3em;box-sizing: border-box;text-align: center;}#sk-container-id-4 label.sk-toggleable__label-arrow:before {content: \"▸\";float: left;margin-right: 0.25em;color: #696969;}#sk-container-id-4 label.sk-toggleable__label-arrow:hover:before {color: black;}#sk-container-id-4 div.sk-estimator:hover label.sk-toggleable__label-arrow:before {color: black;}#sk-container-id-4 div.sk-toggleable__content {max-height: 0;max-width: 0;overflow: hidden;text-align: left;background-color: #f0f8ff;}#sk-container-id-4 div.sk-toggleable__content pre {margin: 0.2em;color: black;border-radius: 0.25em;background-color: #f0f8ff;}#sk-container-id-4 input.sk-toggleable__control:checked~div.sk-toggleable__content {max-height: 200px;max-width: 100%;overflow: auto;}#sk-container-id-4 input.sk-toggleable__control:checked~label.sk-toggleable__label-arrow:before {content: \"▾\";}#sk-container-id-4 div.sk-estimator input.sk-toggleable__control:checked~label.sk-toggleable__label {background-color: #d4ebff;}#sk-container-id-4 div.sk-label input.sk-toggleable__control:checked~label.sk-toggleable__label {background-color: #d4ebff;}#sk-container-id-4 input.sk-hidden--visually {border: 0;clip: rect(1px 1px 1px 1px);clip: rect(1px, 1px, 1px, 1px);height: 1px;margin: -1px;overflow: hidden;padding: 0;position: absolute;width: 1px;}#sk-container-id-4 div.sk-estimator {font-family: monospace;background-color: #f0f8ff;border: 1px dotted black;border-radius: 0.25em;box-sizing: border-box;margin-bottom: 0.5em;}#sk-container-id-4 div.sk-estimator:hover {background-color: #d4ebff;}#sk-container-id-4 div.sk-parallel-item::after {content: \"\";width: 100%;border-bottom: 1px solid gray;flex-grow: 1;}#sk-container-id-4 div.sk-label:hover label.sk-toggleable__label {background-color: #d4ebff;}#sk-container-id-4 div.sk-serial::before {content: \"\";position: absolute;border-left: 1px solid gray;box-sizing: border-box;top: 0;bottom: 0;left: 50%;z-index: 0;}#sk-container-id-4 div.sk-serial {display: flex;flex-direction: column;align-items: center;background-color: white;padding-right: 0.2em;padding-left: 0.2em;position: relative;}#sk-container-id-4 div.sk-item {position: relative;z-index: 1;}#sk-container-id-4 div.sk-parallel {display: flex;align-items: stretch;justify-content: center;background-color: white;position: relative;}#sk-container-id-4 div.sk-item::before, #sk-container-id-4 div.sk-parallel-item::before {content: \"\";position: absolute;border-left: 1px solid gray;box-sizing: border-box;top: 0;bottom: 0;left: 50%;z-index: -1;}#sk-container-id-4 div.sk-parallel-item {display: flex;flex-direction: column;z-index: 1;position: relative;background-color: white;}#sk-container-id-4 div.sk-parallel-item:first-child::after {align-self: flex-end;width: 50%;}#sk-container-id-4 div.sk-parallel-item:last-child::after {align-self: flex-start;width: 50%;}#sk-container-id-4 div.sk-parallel-item:only-child::after {width: 0;}#sk-container-id-4 div.sk-dashed-wrapped {border: 1px dashed gray;margin: 0 0.4em 0.5em 0.4em;box-sizing: border-box;padding-bottom: 0.4em;background-color: white;}#sk-container-id-4 div.sk-label label {font-family: monospace;font-weight: bold;display: inline-block;line-height: 1.2em;}#sk-container-id-4 div.sk-label-container {text-align: center;}#sk-container-id-4 div.sk-container {/* jupyter's `normalize.less` sets `[hidden] { display: none; }` but bootstrap.min.css set `[hidden] { display: none !important; }` so we also need the `!important` here to be able to override the default hidden behavior on the sphinx rendered scikit-learn.org. See: https://github.com/scikit-learn/scikit-learn/issues/21755 */display: inline-block !important;position: relative;}#sk-container-id-4 div.sk-text-repr-fallback {display: none;}</style><div id=\"sk-container-id-4\" class=\"sk-top-container\"><div class=\"sk-text-repr-fallback\"><pre>LogisticRegression(C=100, max_iter=1000, random_state=1, solver=&#x27;newton-cg&#x27;)</pre><b>In a Jupyter environment, please rerun this cell to show the HTML representation or trust the notebook. <br />On GitHub, the HTML representation is unable to render, please try loading this page with nbviewer.org.</b></div><div class=\"sk-container\" hidden><div class=\"sk-item\"><div class=\"sk-estimator sk-toggleable\"><input class=\"sk-toggleable__control sk-hidden--visually\" id=\"sk-estimator-id-6\" type=\"checkbox\" checked><label for=\"sk-estimator-id-6\" class=\"sk-toggleable__label sk-toggleable__label-arrow\">LogisticRegression</label><div class=\"sk-toggleable__content\"><pre>LogisticRegression(C=100, max_iter=1000, random_state=1, solver=&#x27;newton-cg&#x27;)</pre></div></div></div></div></div>"
      ],
      "text/plain": [
       "LogisticRegression(C=100, max_iter=1000, random_state=1, solver='newton-cg')"
      ]
     },
     "execution_count": 227,
     "metadata": {},
     "output_type": "execute_result"
    }
   ],
   "source": [
    "x_train_o, y_train_o = smote.fit_resample(x_train, y_train)\n",
    "logit_model.fit(x_train_o, y_train_o)"
   ]
  },
  {
   "cell_type": "code",
   "execution_count": 228,
   "metadata": {},
   "outputs": [
    {
     "data": {
      "text/plain": [
       "{'term': 0.5017634988377678,\n",
       " 'int_rate': 0.35455587816918893,\n",
       " 'grade': 0.4323538178316345,\n",
       " 'home_ownership': 0.8833675194510224,\n",
       " 'annual_inc': 0.9893025165275254,\n",
       " 'verification_status': 0.1668271252471074,\n",
       " 'purpose': 0.5472081877752546,\n",
       " 'dti': 0.615866410709596,\n",
       " 'total_rec_late_fee': 0.9563289296294618,\n",
       " 'loan_issue_m': 0.6057313474986074}"
      ]
     },
     "execution_count": 228,
     "metadata": {},
     "output_type": "execute_result"
    }
   ],
   "source": [
    "betas_dict = dict(zip(list(x_train_o.columns), logit_model.coef_[0]))\n",
    "alpha = logit_model.intercept_[0]\n",
    "betas_dict"
   ]
  },
  {
   "cell_type": "code",
   "execution_count": 233,
   "metadata": {},
   "outputs": [],
   "source": [
    "woe = woe.drop(columns = 'index')"
   ]
  },
  {
   "cell_type": "code",
   "execution_count": 266,
   "metadata": {},
   "outputs": [
    {
     "ename": "ValueError",
     "evalue": "Length of values (1) does not match length of index (61)",
     "output_type": "error",
     "traceback": [
      "\u001b[1;31m---------------------------------------------------------------------------\u001b[0m",
      "\u001b[1;31mValueError\u001b[0m                                Traceback (most recent call last)",
      "Cell \u001b[1;32mIn[266], line 7\u001b[0m\n\u001b[0;32m      5\u001b[0m \u001b[39mfor\u001b[39;00m col \u001b[39min\u001b[39;00m columns:\n\u001b[0;32m      6\u001b[0m     beta\u001b[39m.\u001b[39mappend(betas_dict[col])\n\u001b[1;32m----> 7\u001b[0m     woe[\u001b[39m'\u001b[39;49m\u001b[39mbeta\u001b[39;49m\u001b[39m'\u001b[39;49m] \u001b[39m=\u001b[39m beta\n",
      "File \u001b[1;32md:\\Python\\lib\\site-packages\\pandas\\core\\frame.py:3980\u001b[0m, in \u001b[0;36mDataFrame.__setitem__\u001b[1;34m(self, key, value)\u001b[0m\n\u001b[0;32m   3977\u001b[0m     \u001b[39mself\u001b[39m\u001b[39m.\u001b[39m_setitem_array([key], value)\n\u001b[0;32m   3978\u001b[0m \u001b[39melse\u001b[39;00m:\n\u001b[0;32m   3979\u001b[0m     \u001b[39m# set column\u001b[39;00m\n\u001b[1;32m-> 3980\u001b[0m     \u001b[39mself\u001b[39;49m\u001b[39m.\u001b[39;49m_set_item(key, value)\n",
      "File \u001b[1;32md:\\Python\\lib\\site-packages\\pandas\\core\\frame.py:4174\u001b[0m, in \u001b[0;36mDataFrame._set_item\u001b[1;34m(self, key, value)\u001b[0m\n\u001b[0;32m   4164\u001b[0m \u001b[39mdef\u001b[39;00m \u001b[39m_set_item\u001b[39m(\u001b[39mself\u001b[39m, key, value) \u001b[39m-\u001b[39m\u001b[39m>\u001b[39m \u001b[39mNone\u001b[39;00m:\n\u001b[0;32m   4165\u001b[0m \u001b[39m    \u001b[39m\u001b[39m\"\"\"\u001b[39;00m\n\u001b[0;32m   4166\u001b[0m \u001b[39m    Add series to DataFrame in specified column.\u001b[39;00m\n\u001b[0;32m   4167\u001b[0m \n\u001b[1;32m   (...)\u001b[0m\n\u001b[0;32m   4172\u001b[0m \u001b[39m    ensure homogeneity.\u001b[39;00m\n\u001b[0;32m   4173\u001b[0m \u001b[39m    \"\"\"\u001b[39;00m\n\u001b[1;32m-> 4174\u001b[0m     value \u001b[39m=\u001b[39m \u001b[39mself\u001b[39;49m\u001b[39m.\u001b[39;49m_sanitize_column(value)\n\u001b[0;32m   4176\u001b[0m     \u001b[39mif\u001b[39;00m (\n\u001b[0;32m   4177\u001b[0m         key \u001b[39min\u001b[39;00m \u001b[39mself\u001b[39m\u001b[39m.\u001b[39mcolumns\n\u001b[0;32m   4178\u001b[0m         \u001b[39mand\u001b[39;00m value\u001b[39m.\u001b[39mndim \u001b[39m==\u001b[39m \u001b[39m1\u001b[39m\n\u001b[0;32m   4179\u001b[0m         \u001b[39mand\u001b[39;00m \u001b[39mnot\u001b[39;00m is_extension_array_dtype(value)\n\u001b[0;32m   4180\u001b[0m     ):\n\u001b[0;32m   4181\u001b[0m         \u001b[39m# broadcast across multiple columns if necessary\u001b[39;00m\n\u001b[0;32m   4182\u001b[0m         \u001b[39mif\u001b[39;00m \u001b[39mnot\u001b[39;00m \u001b[39mself\u001b[39m\u001b[39m.\u001b[39mcolumns\u001b[39m.\u001b[39mis_unique \u001b[39mor\u001b[39;00m \u001b[39misinstance\u001b[39m(\u001b[39mself\u001b[39m\u001b[39m.\u001b[39mcolumns, MultiIndex):\n",
      "File \u001b[1;32md:\\Python\\lib\\site-packages\\pandas\\core\\frame.py:4915\u001b[0m, in \u001b[0;36mDataFrame._sanitize_column\u001b[1;34m(self, value)\u001b[0m\n\u001b[0;32m   4912\u001b[0m     \u001b[39mreturn\u001b[39;00m _reindex_for_setitem(Series(value), \u001b[39mself\u001b[39m\u001b[39m.\u001b[39mindex)\n\u001b[0;32m   4914\u001b[0m \u001b[39mif\u001b[39;00m is_list_like(value):\n\u001b[1;32m-> 4915\u001b[0m     com\u001b[39m.\u001b[39;49mrequire_length_match(value, \u001b[39mself\u001b[39;49m\u001b[39m.\u001b[39;49mindex)\n\u001b[0;32m   4916\u001b[0m \u001b[39mreturn\u001b[39;00m sanitize_array(value, \u001b[39mself\u001b[39m\u001b[39m.\u001b[39mindex, copy\u001b[39m=\u001b[39m\u001b[39mTrue\u001b[39;00m, allow_2d\u001b[39m=\u001b[39m\u001b[39mTrue\u001b[39;00m)\n",
      "File \u001b[1;32md:\\Python\\lib\\site-packages\\pandas\\core\\common.py:571\u001b[0m, in \u001b[0;36mrequire_length_match\u001b[1;34m(data, index)\u001b[0m\n\u001b[0;32m    567\u001b[0m \u001b[39m\u001b[39m\u001b[39m\"\"\"\u001b[39;00m\n\u001b[0;32m    568\u001b[0m \u001b[39mCheck the length of data matches the length of the index.\u001b[39;00m\n\u001b[0;32m    569\u001b[0m \u001b[39m\"\"\"\u001b[39;00m\n\u001b[0;32m    570\u001b[0m \u001b[39mif\u001b[39;00m \u001b[39mlen\u001b[39m(data) \u001b[39m!=\u001b[39m \u001b[39mlen\u001b[39m(index):\n\u001b[1;32m--> 571\u001b[0m     \u001b[39mraise\u001b[39;00m \u001b[39mValueError\u001b[39;00m(\n\u001b[0;32m    572\u001b[0m         \u001b[39m\"\u001b[39m\u001b[39mLength of values \u001b[39m\u001b[39m\"\u001b[39m\n\u001b[0;32m    573\u001b[0m         \u001b[39mf\u001b[39m\u001b[39m\"\u001b[39m\u001b[39m(\u001b[39m\u001b[39m{\u001b[39;00m\u001b[39mlen\u001b[39m(data)\u001b[39m}\u001b[39;00m\u001b[39m) \u001b[39m\u001b[39m\"\u001b[39m\n\u001b[0;32m    574\u001b[0m         \u001b[39m\"\u001b[39m\u001b[39mdoes not match length of index \u001b[39m\u001b[39m\"\u001b[39m\n\u001b[0;32m    575\u001b[0m         \u001b[39mf\u001b[39m\u001b[39m\"\u001b[39m\u001b[39m(\u001b[39m\u001b[39m{\u001b[39;00m\u001b[39mlen\u001b[39m(index)\u001b[39m}\u001b[39;00m\u001b[39m)\u001b[39m\u001b[39m\"\u001b[39m\n\u001b[0;32m    576\u001b[0m     )\n",
      "\u001b[1;31mValueError\u001b[0m: Length of values (1) does not match length of index (61)"
     ]
    }
   ],
   "source": [
    "columns = list(woe['Variable'])\n",
    "columns\n",
    "beta = []\n",
    "alpha = logit_model.intercept_[0]\n",
    "for col in columns:\n",
    "    beta.append(betas_dict[col])\n",
    "    woe['beta'] = beta"
   ]
  },
  {
   "cell_type": "code",
   "execution_count": 268,
   "metadata": {},
   "outputs": [],
   "source": [
    "score = CreditScore(beta = woe['beta'], alpha =  alpha, woe = woe['WoE'], n = 10, odds = 1/50, pdo = 20, thres_score = 600)\n",
    "woe['score'] = score"
   ]
  },
  {
   "cell_type": "code",
   "execution_count": 342,
   "metadata": {},
   "outputs": [
    {
     "data": {
      "text/html": [
       "<div>\n",
       "<style scoped>\n",
       "    .dataframe tbody tr th:only-of-type {\n",
       "        vertical-align: middle;\n",
       "    }\n",
       "\n",
       "    .dataframe tbody tr th {\n",
       "        vertical-align: top;\n",
       "    }\n",
       "\n",
       "    .dataframe thead th {\n",
       "        text-align: right;\n",
       "    }\n",
       "</style>\n",
       "<table border=\"1\" class=\"dataframe\">\n",
       "  <thead>\n",
       "    <tr style=\"text-align: right;\">\n",
       "      <th></th>\n",
       "      <th>Variable</th>\n",
       "      <th>Cutoff</th>\n",
       "      <th>WoE</th>\n",
       "    </tr>\n",
       "  </thead>\n",
       "  <tbody>\n",
       "    <tr>\n",
       "      <th>0</th>\n",
       "      <td>term</td>\n",
       "      <td>36</td>\n",
       "      <td>-0.243</td>\n",
       "    </tr>\n",
       "    <tr>\n",
       "      <th>1</th>\n",
       "      <td>term</td>\n",
       "      <td>60</td>\n",
       "      <td>0.679</td>\n",
       "    </tr>\n",
       "    <tr>\n",
       "      <th>2</th>\n",
       "      <td>int_rate</td>\n",
       "      <td>(11.612, 13.676]</td>\n",
       "      <td>-0.228</td>\n",
       "    </tr>\n",
       "    <tr>\n",
       "      <th>3</th>\n",
       "      <td>int_rate</td>\n",
       "      <td>(13.676, 15.74]</td>\n",
       "      <td>0.102</td>\n",
       "    </tr>\n",
       "    <tr>\n",
       "      <th>4</th>\n",
       "      <td>int_rate</td>\n",
       "      <td>(15.74, 17.804]</td>\n",
       "      <td>0.398</td>\n",
       "    </tr>\n",
       "  </tbody>\n",
       "</table>\n",
       "</div>"
      ],
      "text/plain": [
       "   Variable            Cutoff    WoE\n",
       "0      term                36 -0.243\n",
       "1      term                60  0.679\n",
       "2  int_rate  (11.612, 13.676] -0.228\n",
       "3  int_rate   (13.676, 15.74]  0.102\n",
       "4  int_rate   (15.74, 17.804]  0.398"
      ]
     },
     "execution_count": 342,
     "metadata": {},
     "output_type": "execute_result"
    }
   ],
   "source": [
    "woe.head()"
   ]
  },
  {
   "cell_type": "code",
   "execution_count": 339,
   "metadata": {},
   "outputs": [
    {
     "data": {
      "text/html": [
       "<div>\n",
       "<style scoped>\n",
       "    .dataframe tbody tr th:only-of-type {\n",
       "        vertical-align: middle;\n",
       "    }\n",
       "\n",
       "    .dataframe tbody tr th {\n",
       "        vertical-align: top;\n",
       "    }\n",
       "\n",
       "    .dataframe thead th {\n",
       "        text-align: right;\n",
       "    }\n",
       "</style>\n",
       "<table border=\"1\" class=\"dataframe\">\n",
       "  <thead>\n",
       "    <tr style=\"text-align: right;\">\n",
       "      <th></th>\n",
       "      <th>term</th>\n",
       "      <th>int_rate</th>\n",
       "      <th>grade</th>\n",
       "      <th>home_ownership</th>\n",
       "      <th>annual_inc</th>\n",
       "      <th>verification_status</th>\n",
       "      <th>purpose</th>\n",
       "      <th>dti</th>\n",
       "      <th>total_rec_late_fee</th>\n",
       "      <th>loan_issue_m</th>\n",
       "      <th>loan_status</th>\n",
       "    </tr>\n",
       "  </thead>\n",
       "  <tbody>\n",
       "    <tr>\n",
       "      <th>1</th>\n",
       "      <td>60</td>\n",
       "      <td>(13.676, 15.74]</td>\n",
       "      <td>C</td>\n",
       "      <td>RENT</td>\n",
       "      <td>(1895, 30000]</td>\n",
       "      <td>Source Verified</td>\n",
       "      <td>car</td>\n",
       "      <td>(-0.04, 3.999]</td>\n",
       "      <td>(-0.1, 35.868]</td>\n",
       "      <td>(30.0, 80.0]</td>\n",
       "      <td>1</td>\n",
       "    </tr>\n",
       "  </tbody>\n",
       "</table>\n",
       "</div>"
      ],
      "text/plain": [
       "  term         int_rate grade home_ownership     annual_inc  \\\n",
       "1   60  (13.676, 15.74]     C           RENT  (1895, 30000]   \n",
       "\n",
       "  verification_status purpose             dti total_rec_late_fee  \\\n",
       "1     Source Verified     car  (-0.04, 3.999]     (-0.1, 35.868]   \n",
       "\n",
       "   loan_issue_m loan_status  \n",
       "1  (30.0, 80.0]           1  "
      ]
     },
     "execution_count": 339,
     "metadata": {},
     "output_type": "execute_result"
    }
   ],
   "source": [
    "# Giả sử một hồ sơ ngẫu nhiên có các thông số như sau\n",
    "test_obs = df.iloc[1, :]\n",
    "pd.DataFrame(test_obs).transpose()"
   ]
  }
 ],
 "metadata": {
  "kernelspec": {
   "display_name": "Python 3",
   "language": "python",
   "name": "python3"
  },
  "language_info": {
   "codemirror_mode": {
    "name": "ipython",
    "version": 3
   },
   "file_extension": ".py",
   "mimetype": "text/x-python",
   "name": "python",
   "nbconvert_exporter": "python",
   "pygments_lexer": "ipython3",
   "version": "3.10.10"
  },
  "orig_nbformat": 4
 },
 "nbformat": 4,
 "nbformat_minor": 2
}
