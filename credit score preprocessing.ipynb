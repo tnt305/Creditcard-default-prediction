{
 "cells": [
  {
   "cell_type": "code",
   "execution_count": 1,
   "metadata": {},
   "outputs": [],
   "source": [
    "import pandas as pd\n",
    "import numpy as np\n",
    "import seaborn as sns\n",
    "import matplotlib.pyplot as plt\n",
    "pd.options.display.max_rows = 4000\n",
    "pd.options.display.float_format = '{:.3f}'.format \n",
    "np.set_printoptions(suppress=True, precision=5)"
   ]
  },
  {
   "attachments": {},
   "cell_type": "markdown",
   "metadata": {},
   "source": [
    "## TIỀN XỬ LÝ DỮ LIỆU"
   ]
  },
  {
   "cell_type": "code",
   "execution_count": 3,
   "metadata": {},
   "outputs": [
    {
     "data": {
      "text/plain": [
       "(466285, 75)"
      ]
     },
     "execution_count": 3,
     "metadata": {},
     "output_type": "execute_result"
    }
   ],
   "source": [
    "df = pd.read_csv(r'E:\\learn st new\\Credit score\\loan_data_2007_2014.csv', low_memory= False)\n",
    "df.shape"
   ]
  },
  {
   "cell_type": "code",
   "execution_count": 5,
   "metadata": {},
   "outputs": [
    {
     "data": {
      "text/plain": [
       "(466285, 75)"
      ]
     },
     "execution_count": 5,
     "metadata": {},
     "output_type": "execute_result"
    }
   ],
   "source": [
    "df.drop_duplicates(subset = 'id')\n",
    "df.shape"
   ]
  },
  {
   "cell_type": "code",
   "execution_count": 7,
   "metadata": {},
   "outputs": [
    {
     "data": {
      "text/plain": [
       "Unnamed: 0                      0.000\n",
       "id                              0.000\n",
       "member_id                       0.000\n",
       "loan_amnt                       0.000\n",
       "funded_amnt                     0.000\n",
       "funded_amnt_inv                 0.000\n",
       "term                            0.000\n",
       "int_rate                        0.000\n",
       "installment                     0.000\n",
       "grade                           0.000\n",
       "sub_grade                       0.000\n",
       "emp_title                       5.917\n",
       "emp_length                      4.505\n",
       "home_ownership                  0.000\n",
       "annual_inc                      0.001\n",
       "verification_status             0.000\n",
       "issue_d                         0.000\n",
       "loan_status                     0.000\n",
       "pymnt_plan                      0.000\n",
       "url                             0.000\n",
       "desc                           72.982\n",
       "purpose                         0.000\n",
       "title                           0.004\n",
       "zip_code                        0.000\n",
       "addr_state                      0.000\n",
       "dti                             0.000\n",
       "delinq_2yrs                     0.006\n",
       "earliest_cr_line                0.006\n",
       "inq_last_6mths                  0.006\n",
       "mths_since_last_delinq         53.691\n",
       "mths_since_last_record         86.567\n",
       "open_acc                        0.006\n",
       "pub_rec                         0.006\n",
       "revol_bal                       0.000\n",
       "revol_util                      0.073\n",
       "total_acc                       0.006\n",
       "initial_list_status             0.000\n",
       "out_prncp                       0.000\n",
       "out_prncp_inv                   0.000\n",
       "total_pymnt                     0.000\n",
       "total_pymnt_inv                 0.000\n",
       "total_rec_prncp                 0.000\n",
       "total_rec_int                   0.000\n",
       "total_rec_late_fee              0.000\n",
       "recoveries                      0.000\n",
       "collection_recovery_fee         0.000\n",
       "last_pymnt_d                    0.081\n",
       "last_pymnt_amnt                 0.000\n",
       "next_pymnt_d                   48.729\n",
       "last_credit_pull_d              0.009\n",
       "collections_12_mths_ex_med      0.031\n",
       "mths_since_last_major_derog    78.774\n",
       "policy_code                     0.000\n",
       "application_type                0.000\n",
       "annual_inc_joint              100.000\n",
       "dti_joint                     100.000\n",
       "verification_status_joint     100.000\n",
       "acc_now_delinq                  0.006\n",
       "tot_coll_amt                   15.071\n",
       "tot_cur_bal                    15.071\n",
       "open_acc_6m                   100.000\n",
       "open_il_6m                    100.000\n",
       "open_il_12m                   100.000\n",
       "open_il_24m                   100.000\n",
       "mths_since_rcnt_il            100.000\n",
       "total_bal_il                  100.000\n",
       "il_util                       100.000\n",
       "open_rv_12m                   100.000\n",
       "open_rv_24m                   100.000\n",
       "max_bal_bc                    100.000\n",
       "all_util                      100.000\n",
       "total_rev_hi_lim               15.071\n",
       "inq_fi                        100.000\n",
       "total_cu_tl                   100.000\n",
       "inq_last_12m                  100.000\n",
       "dtype: float64"
      ]
     },
     "execution_count": 7,
     "metadata": {},
     "output_type": "execute_result"
    }
   ],
   "source": [
    "# % Dữ liệu null trong dataset\n",
    "\n",
    "pct_missing_value = 100* df.isnull().sum()/df.shape[0]\n",
    "pct_missing_value"
   ]
  },
  {
   "cell_type": "code",
   "execution_count": 8,
   "metadata": {},
   "outputs": [],
   "source": [
    "# Loại bỏ những column có khuyết thiếu nhiều\n",
    "df2 = df.drop(columns = [x for x in pct_missing_value[pct_missing_value >= 70].index])\n",
    "df2 = df2.drop(columns = ['Unnamed: 0','zip_code'], axis =0)"
   ]
  },
  {
   "cell_type": "code",
   "execution_count": 6,
   "metadata": {},
   "outputs": [
    {
     "data": {
      "text/html": [
       "<div>\n",
       "<style scoped>\n",
       "    .dataframe tbody tr th:only-of-type {\n",
       "        vertical-align: middle;\n",
       "    }\n",
       "\n",
       "    .dataframe tbody tr th {\n",
       "        vertical-align: top;\n",
       "    }\n",
       "\n",
       "    .dataframe thead th {\n",
       "        text-align: right;\n",
       "    }\n",
       "</style>\n",
       "<table border=\"1\" class=\"dataframe\">\n",
       "  <thead>\n",
       "    <tr style=\"text-align: right;\">\n",
       "      <th></th>\n",
       "      <th>id</th>\n",
       "      <th>member_id</th>\n",
       "      <th>loan_amnt</th>\n",
       "      <th>funded_amnt</th>\n",
       "      <th>funded_amnt_inv</th>\n",
       "      <th>term</th>\n",
       "      <th>int_rate</th>\n",
       "      <th>installment</th>\n",
       "      <th>grade</th>\n",
       "      <th>sub_grade</th>\n",
       "      <th>...</th>\n",
       "      <th>last_pymnt_amnt</th>\n",
       "      <th>next_pymnt_d</th>\n",
       "      <th>last_credit_pull_d</th>\n",
       "      <th>collections_12_mths_ex_med</th>\n",
       "      <th>policy_code</th>\n",
       "      <th>application_type</th>\n",
       "      <th>acc_now_delinq</th>\n",
       "      <th>tot_coll_amt</th>\n",
       "      <th>tot_cur_bal</th>\n",
       "      <th>total_rev_hi_lim</th>\n",
       "    </tr>\n",
       "  </thead>\n",
       "  <tbody>\n",
       "    <tr>\n",
       "      <th>0</th>\n",
       "      <td>1077501</td>\n",
       "      <td>1296599</td>\n",
       "      <td>5000</td>\n",
       "      <td>5000</td>\n",
       "      <td>4975.000</td>\n",
       "      <td>36 months</td>\n",
       "      <td>10.650</td>\n",
       "      <td>162.870</td>\n",
       "      <td>B</td>\n",
       "      <td>B2</td>\n",
       "      <td>...</td>\n",
       "      <td>171.620</td>\n",
       "      <td>NaN</td>\n",
       "      <td>Jan-16</td>\n",
       "      <td>0.000</td>\n",
       "      <td>1</td>\n",
       "      <td>INDIVIDUAL</td>\n",
       "      <td>0.000</td>\n",
       "      <td>NaN</td>\n",
       "      <td>NaN</td>\n",
       "      <td>NaN</td>\n",
       "    </tr>\n",
       "    <tr>\n",
       "      <th>1</th>\n",
       "      <td>1077430</td>\n",
       "      <td>1314167</td>\n",
       "      <td>2500</td>\n",
       "      <td>2500</td>\n",
       "      <td>2500.000</td>\n",
       "      <td>60 months</td>\n",
       "      <td>15.270</td>\n",
       "      <td>59.830</td>\n",
       "      <td>C</td>\n",
       "      <td>C4</td>\n",
       "      <td>...</td>\n",
       "      <td>119.660</td>\n",
       "      <td>NaN</td>\n",
       "      <td>Sep-13</td>\n",
       "      <td>0.000</td>\n",
       "      <td>1</td>\n",
       "      <td>INDIVIDUAL</td>\n",
       "      <td>0.000</td>\n",
       "      <td>NaN</td>\n",
       "      <td>NaN</td>\n",
       "      <td>NaN</td>\n",
       "    </tr>\n",
       "    <tr>\n",
       "      <th>2</th>\n",
       "      <td>1077175</td>\n",
       "      <td>1313524</td>\n",
       "      <td>2400</td>\n",
       "      <td>2400</td>\n",
       "      <td>2400.000</td>\n",
       "      <td>36 months</td>\n",
       "      <td>15.960</td>\n",
       "      <td>84.330</td>\n",
       "      <td>C</td>\n",
       "      <td>C5</td>\n",
       "      <td>...</td>\n",
       "      <td>649.910</td>\n",
       "      <td>NaN</td>\n",
       "      <td>Jan-16</td>\n",
       "      <td>0.000</td>\n",
       "      <td>1</td>\n",
       "      <td>INDIVIDUAL</td>\n",
       "      <td>0.000</td>\n",
       "      <td>NaN</td>\n",
       "      <td>NaN</td>\n",
       "      <td>NaN</td>\n",
       "    </tr>\n",
       "    <tr>\n",
       "      <th>3</th>\n",
       "      <td>1076863</td>\n",
       "      <td>1277178</td>\n",
       "      <td>10000</td>\n",
       "      <td>10000</td>\n",
       "      <td>10000.000</td>\n",
       "      <td>36 months</td>\n",
       "      <td>13.490</td>\n",
       "      <td>339.310</td>\n",
       "      <td>C</td>\n",
       "      <td>C1</td>\n",
       "      <td>...</td>\n",
       "      <td>357.480</td>\n",
       "      <td>NaN</td>\n",
       "      <td>Jan-15</td>\n",
       "      <td>0.000</td>\n",
       "      <td>1</td>\n",
       "      <td>INDIVIDUAL</td>\n",
       "      <td>0.000</td>\n",
       "      <td>NaN</td>\n",
       "      <td>NaN</td>\n",
       "      <td>NaN</td>\n",
       "    </tr>\n",
       "    <tr>\n",
       "      <th>4</th>\n",
       "      <td>1075358</td>\n",
       "      <td>1311748</td>\n",
       "      <td>3000</td>\n",
       "      <td>3000</td>\n",
       "      <td>3000.000</td>\n",
       "      <td>60 months</td>\n",
       "      <td>12.690</td>\n",
       "      <td>67.790</td>\n",
       "      <td>B</td>\n",
       "      <td>B5</td>\n",
       "      <td>...</td>\n",
       "      <td>67.790</td>\n",
       "      <td>Feb-16</td>\n",
       "      <td>Jan-16</td>\n",
       "      <td>0.000</td>\n",
       "      <td>1</td>\n",
       "      <td>INDIVIDUAL</td>\n",
       "      <td>0.000</td>\n",
       "      <td>NaN</td>\n",
       "      <td>NaN</td>\n",
       "      <td>NaN</td>\n",
       "    </tr>\n",
       "  </tbody>\n",
       "</table>\n",
       "<p>5 rows × 53 columns</p>\n",
       "</div>"
      ],
      "text/plain": [
       "        id  member_id  loan_amnt  funded_amnt  funded_amnt_inv        term  \\\n",
       "0  1077501    1296599       5000         5000         4975.000   36 months   \n",
       "1  1077430    1314167       2500         2500         2500.000   60 months   \n",
       "2  1077175    1313524       2400         2400         2400.000   36 months   \n",
       "3  1076863    1277178      10000        10000        10000.000   36 months   \n",
       "4  1075358    1311748       3000         3000         3000.000   60 months   \n",
       "\n",
       "   int_rate  installment grade sub_grade  ... last_pymnt_amnt next_pymnt_d  \\\n",
       "0    10.650      162.870     B        B2  ...         171.620          NaN   \n",
       "1    15.270       59.830     C        C4  ...         119.660          NaN   \n",
       "2    15.960       84.330     C        C5  ...         649.910          NaN   \n",
       "3    13.490      339.310     C        C1  ...         357.480          NaN   \n",
       "4    12.690       67.790     B        B5  ...          67.790       Feb-16   \n",
       "\n",
       "  last_credit_pull_d  collections_12_mths_ex_med policy_code application_type  \\\n",
       "0             Jan-16                       0.000           1       INDIVIDUAL   \n",
       "1             Sep-13                       0.000           1       INDIVIDUAL   \n",
       "2             Jan-16                       0.000           1       INDIVIDUAL   \n",
       "3             Jan-15                       0.000           1       INDIVIDUAL   \n",
       "4             Jan-16                       0.000           1       INDIVIDUAL   \n",
       "\n",
       "  acc_now_delinq tot_coll_amt tot_cur_bal total_rev_hi_lim  \n",
       "0          0.000          NaN         NaN              NaN  \n",
       "1          0.000          NaN         NaN              NaN  \n",
       "2          0.000          NaN         NaN              NaN  \n",
       "3          0.000          NaN         NaN              NaN  \n",
       "4          0.000          NaN         NaN              NaN  \n",
       "\n",
       "[5 rows x 53 columns]"
      ]
     },
     "execution_count": 6,
     "metadata": {},
     "output_type": "execute_result"
    }
   ],
   "source": [
    "df2.head()"
   ]
  },
  {
   "cell_type": "code",
   "execution_count": 9,
   "metadata": {},
   "outputs": [
    {
     "name": "stdout",
     "output_type": "stream",
     "text": [
      "term\n",
      "[' 36 months' ' 60 months']\n",
      "\n",
      "grade\n",
      "['B' 'C' 'A' 'E' 'F' 'D' 'G']\n",
      "\n",
      "sub_grade\n",
      "['B2' 'C4' 'C5' 'C1' 'B5' 'A4' 'E1' 'F2' 'C3' 'B1' 'D1' 'A1' 'B3' 'B4'\n",
      " 'C2' 'D2' 'A3' 'A5' 'D5' 'A2' 'E4' 'D3' 'D4' 'F3' 'E3' 'F4' 'F1' 'E5'\n",
      " 'G4' 'E2' 'G3' 'G2' 'G1' 'F5' 'G5']\n",
      "\n",
      "emp_title\n",
      "[nan 'Ryder' 'AIR RESOURCES BOARD' ... 'MecÃ¡nica'\n",
      " 'Chief of Interpretation (Park Ranger)' 'Server Engineer Lead']\n",
      "\n",
      "emp_length\n",
      "['10+ years' '< 1 year' '1 year' '3 years' '8 years' '9 years' '4 years'\n",
      " '5 years' '6 years' '2 years' '7 years' nan]\n",
      "\n",
      "home_ownership\n",
      "['RENT' 'OWN' 'MORTGAGE' 'OTHER' 'NONE' 'ANY']\n",
      "\n",
      "verification_status\n",
      "['Verified' 'Source Verified' 'Not Verified']\n",
      "\n",
      "issue_d\n",
      "['Dec-11' 'Nov-11' 'Oct-11' 'Sep-11' 'Aug-11' 'Jul-11' 'Jun-11' 'May-11'\n",
      " 'Apr-11' 'Mar-11' 'Feb-11' 'Jan-11' 'Dec-10' 'Nov-10' 'Oct-10' 'Sep-10'\n",
      " 'Aug-10' 'Jul-10' 'Jun-10' 'May-10' 'Apr-10' 'Mar-10' 'Feb-10' 'Jan-10'\n",
      " 'Dec-09' 'Nov-09' 'Oct-09' 'Sep-09' 'Aug-09' 'Jul-09' 'Jun-09' 'May-09'\n",
      " 'Apr-09' 'Mar-09' 'Feb-09' 'Jan-09' 'Dec-08' 'Nov-08' 'Oct-08' 'Sep-08'\n",
      " 'Aug-08' 'Jul-08' 'Jun-08' 'May-08' 'Apr-08' 'Mar-08' 'Feb-08' 'Jan-08'\n",
      " 'Dec-07' 'Nov-07' 'Oct-07' 'Sep-07' 'Aug-07' 'Jul-07' 'Jun-07' 'Dec-13'\n",
      " 'Nov-13' 'Oct-13' 'Sep-13' 'Aug-13' 'Jul-13' 'Jun-13' 'May-13' 'Apr-13'\n",
      " 'Mar-13' 'Feb-13' 'Jan-13' 'Dec-12' 'Nov-12' 'Oct-12' 'Sep-12' 'Aug-12'\n",
      " 'Jul-12' 'Jun-12' 'May-12' 'Apr-12' 'Mar-12' 'Feb-12' 'Jan-12' 'Dec-14'\n",
      " 'Nov-14' 'Oct-14' 'Sep-14' 'Aug-14' 'Jul-14' 'Jun-14' 'May-14' 'Apr-14'\n",
      " 'Mar-14' 'Feb-14' 'Jan-14']\n",
      "\n",
      "loan_status\n",
      "['Fully Paid' 'Charged Off' 'Current' 'Default' 'Late (31-120 days)'\n",
      " 'In Grace Period' 'Late (16-30 days)'\n",
      " 'Does not meet the credit policy. Status:Fully Paid'\n",
      " 'Does not meet the credit policy. Status:Charged Off']\n",
      "\n",
      "pymnt_plan\n",
      "['n' 'y']\n",
      "\n",
      "url\n",
      "['https://www.lendingclub.com/browse/loanDetail.action?loan_id=1077501'\n",
      " 'https://www.lendingclub.com/browse/loanDetail.action?loan_id=1077430'\n",
      " 'https://www.lendingclub.com/browse/loanDetail.action?loan_id=1077175'\n",
      " ...\n",
      " 'https://www.lendingclub.com/browse/loanDetail.action?loan_id=9584776'\n",
      " 'https://www.lendingclub.com/browse/loanDetail.action?loan_id=9604874'\n",
      " 'https://www.lendingclub.com/browse/loanDetail.action?loan_id=9199665']\n",
      "\n",
      "purpose\n",
      "['credit_card' 'car' 'small_business' 'other' 'wedding'\n",
      " 'debt_consolidation' 'home_improvement' 'major_purchase' 'medical'\n",
      " 'moving' 'vacation' 'house' 'renewable_energy' 'educational']\n",
      "\n",
      "title\n",
      "['Computer' 'bike' 'real estate business' ... 'LoanGetter'\n",
      " 'Consolidation 01' 'Paying off the car and some bills']\n",
      "\n",
      "addr_state\n",
      "['AZ' 'GA' 'IL' 'CA' 'OR' 'NC' 'TX' 'VA' 'MO' 'CT' 'UT' 'FL' 'NY' 'PA'\n",
      " 'MN' 'NJ' 'KY' 'OH' 'SC' 'RI' 'LA' 'MA' 'WA' 'WI' 'AL' 'CO' 'KS' 'NV'\n",
      " 'AK' 'MD' 'WV' 'VT' 'MI' 'DC' 'SD' 'NH' 'AR' 'NM' 'MT' 'HI' 'WY' 'OK'\n",
      " 'DE' 'MS' 'TN' 'IA' 'NE' 'ID' 'IN' 'ME']\n",
      "\n",
      "earliest_cr_line\n",
      "['Jan-85' 'Apr-99' 'Nov-01' 'Feb-96' 'Jan-96' 'Nov-04' 'Jul-05' 'Jan-07'\n",
      " 'Apr-04' 'Sep-04' 'Jan-98' 'Oct-89' 'Jul-03' 'May-91' 'Sep-07' 'Oct-98'\n",
      " 'Aug-93' 'Oct-03' 'Jan-01' 'Nov-97' 'Feb-83' 'Jul-85' 'Apr-03' 'Jun-01'\n",
      " 'Feb-02' 'Aug-84' 'Nov-06' 'Dec-87' 'Nov-81' 'Feb-97' 'Apr-05' 'Oct-07'\n",
      " 'Dec-00' 'Apr-07' 'Dec-01' 'Jan-03' 'Mar-94' 'Sep-98' 'Jun-04' 'Nov-95'\n",
      " 'Jul-99' 'Jun-95' 'Sep-92' 'Jan-02' 'Apr-92' 'Oct-06' 'May-00' 'Dec-98'\n",
      " 'Dec-04' 'Oct-00' 'May-02' 'May-06' 'Jul-02' 'Jul-06' 'May-97' 'Oct-05'\n",
      " 'Apr-95' 'Oct-02' 'Jan-00' 'Apr-00' 'Dec-94' 'Sep-05' 'Dec-84' 'Dec-99'\n",
      " 'Nov-03' 'Jun-89' 'Jun-03' 'Oct-96' 'May-03' 'Jun-02' 'Jun-07' 'Dec-96'\n",
      " 'Feb-84' 'Sep-02' 'Jan-86' 'May-98' 'Jan-97' 'Jun-05' 'Feb-90' 'Mar-04'\n",
      " 'Jul-95' 'Aug-94' 'Jun-92' 'Mar-97' 'Apr-06' 'Apr-90' 'Aug-99' 'Sep-00'\n",
      " 'Feb-01' 'Dec-88' 'Feb-99' 'Dec-91' 'Aug-00' 'Oct-04' 'Aug-04' 'Feb-05'\n",
      " 'Nov-05' 'Nov-00' 'May-07' 'Jan-91' 'Jun-00' 'Aug-06' 'Dec-02' 'Jun-93'\n",
      " 'Jun-06' 'Feb-04' 'Dec-90' 'Mar-00' 'Feb-95' 'Jul-01' 'Apr-02' 'Sep-06'\n",
      " 'May-99' 'Aug-98' 'Dec-05' 'May-04' 'Oct-01' 'Jun-83' 'Mar-86' 'Apr-80'\n",
      " 'Jul-04' 'Jul-08' 'May-96' 'Jan-04' 'Nov-02' 'Aug-02' 'Aug-01' 'Mar-91'\n",
      " 'Sep-89' 'Sep-94' 'Sep-03' 'Sep-99' 'Aug-05' 'Dec-86' 'Nov-98' 'Feb-06'\n",
      " 'May-94' 'Nov-07' 'Feb-93' 'Nov-91' 'May-05' 'Dec-73' 'May-01' 'Mar-90'\n",
      " 'Mar-96' 'Oct-79' 'Jun-81' 'Mar-01' 'Apr-01' 'Jun-99' 'Nov-93' 'Jan-06'\n",
      " 'Dec-97' 'Nov-94' 'Jul-97' 'Oct-91' 'Jun-94' 'Mar-06' 'Sep-96' 'Apr-91'\n",
      " 'Jul-93' 'Jan-95' 'Sep-87' 'Mar-03' 'Oct-99' 'Jul-96' 'Dec-03' 'Aug-88'\n",
      " 'Jan-92' 'Mar-98' 'Feb-07' 'Aug-82' 'Mar-95' 'Dec-92' 'Jul-98' 'Jul-89'\n",
      " 'May-90' 'Jul-94' 'Sep-01' 'Mar-84' 'Aug-03' 'Nov-99' 'Mar-07' 'Mar-08'\n",
      " 'Apr-94' 'Jan-05' 'Jul-86' 'Aug-90' 'May-92' 'Jul-00' 'Mar-88' 'May-83'\n",
      " 'Apr-93' 'Jul-78' 'Feb-00' 'Dec-81' 'Mar-92' 'Jan-81' 'Sep-90' 'Jun-98'\n",
      " 'May-93' 'Nov-96' 'Mar-02' 'Jan-88' 'Aug-97' 'Aug-87' 'Aug-08' 'Oct-94'\n",
      " 'Oct-86' 'Feb-94' 'Jun-96' 'Feb-98' 'Nov-08' 'Apr-98' 'Jul-79' 'Jan-93'\n",
      " 'May-87' 'Jul-71' 'Aug-07' 'Jun-97' 'Mar-80' 'Dec-06' 'Jul-07' 'Oct-95'\n",
      " 'Jul-91' 'Jul-92' 'Dec-72' 'Dec-93' 'Jan-99' 'Feb-03' 'Apr-97' 'Dec-95'\n",
      " 'Apr-96' 'Jul-90' 'Mar-70' 'Nov-84' 'Apr-84' 'Jul-84' 'Aug-95' 'Mar-99'\n",
      " 'Sep-88' 'Mar-89' 'Mar-87' 'Oct-97' 'Dec-80' 'Jan-94' 'Sep-95' 'Mar-05'\n",
      " 'Jan-89' 'Feb-92' 'Jan-90' 'Nov-90' 'Mar-69' 'Jun-75' 'Mar-85' 'Dec-07'\n",
      " 'Oct-93' 'Dec-89' 'Sep-80' 'Jun-88' 'May-78' 'Apr-73' 'Aug-89' 'Oct-90'\n",
      " 'Sep-91' 'Feb-82' 'Feb-87' 'Nov-85' 'Jan-84' 'Jul-88' 'May-08' 'Oct-85'\n",
      " 'Mar-83' 'Aug-91' 'Sep-86' 'Jun-90' 'Feb-86' 'Sep-97' 'Jun-84' 'Sep-81'\n",
      " 'Apr-86' 'Aug-79' 'Aug-80' 'Nov-92' 'Sep-93' 'Jun-87' 'Sep-82' 'Aug-92'\n",
      " 'Aug-85' 'Jul-83' 'Jun-91' 'Dec-83' 'Jan-87' 'Nov-78' 'Oct-84' 'Aug-96'\n",
      " 'Nov-89' 'Sep-76' 'Nov-86' 'Oct-87' 'Sep-08' 'May-77' 'May-86' 'Mar-81'\n",
      " 'Jan-83' 'Nov-76' 'Sep-79' 'Oct-83' 'Sep-62' 'Jun-85' 'May-82' 'Feb-88'\n",
      " 'Oct-92' 'Aug-83' 'Jun-73' 'Apr-85' 'Oct-88' 'Oct-81' 'Sep-68' 'Jul-74'\n",
      " 'Nov-87' 'May-95' 'Feb-91' 'Nov-88' 'Mar-93' 'Jun-08' 'Jul-80' 'Dec-82'\n",
      " 'Mar-75' 'Feb-80' 'Apr-88' 'Dec-79' 'Sep-85' 'Sep-71' 'Mar-78' 'Feb-08'\n",
      " 'Aug-78' 'Nov-70' 'Jun-79' 'Jun-80' 'Apr-89' 'Sep-83' 'Feb-89' 'Nov-83'\n",
      " 'Jun-86' 'Oct-82' 'Aug-86' 'Oct-80' 'May-88' 'Dec-85' 'Jan-82' 'Sep-77'\n",
      " 'Dec-76' 'Apr-82' 'May-84' 'Apr-08' 'Feb-79' 'Jan-08' 'Sep-64' 'Jul-87'\n",
      " 'Jan-78' 'May-89' 'Oct-77' 'Dec-75' 'Feb-85' 'Oct-08' 'Nov-82' 'May-75'\n",
      " 'May-85' 'Feb-71' 'Jun-77' 'Apr-81' 'May-79' 'Jan-72' 'Sep-67' 'Apr-78'\n",
      " 'Feb-65' 'Apr-83' 'Nov-75' 'Jun-67' 'Mar-74' 'Jul-72' 'Aug-67' 'Apr-71'\n",
      " 'Sep-84' 'May-81' 'Dec-70' 'Oct-73' 'Jan-71' 'Dec-63' 'Apr-74' 'Jan-80'\n",
      " 'Aug-69' 'Apr-75' 'Jul-77' 'Mar-77' 'Nov-69' 'Jan-76' 'Mar-82' 'Apr-87'\n",
      " 'Dec-69' 'May-74' 'Aug-74' 'Jun-72' 'Mar-63' 'Nov-79' 'Aug-75' 'Sep-74'\n",
      " 'Aug-81' 'May-73' 'Sep-73' 'Mar-73' 'Dec-77' 'Oct-76' 'Jan-74' 'Jan-70'\n",
      " 'Aug-68' 'Feb-76' 'Jan-75' 'Oct-72' 'Dec-74' 'Feb-73' 'Nov-65' 'Mar-72'\n",
      " 'Jun-82' 'Jun-74' 'May-65' 'Jun-71' 'Oct-70' 'Apr-76' 'Oct-71' 'Apr-77'\n",
      " 'Sep-78' 'Oct-78' 'Oct-54' 'Feb-81' 'Jan-77' 'Aug-77' 'Dec-78' 'Aug-76'\n",
      " 'Jun-68' 'Jun-78' 'Jun-69' 'May-80' 'Jan-79' 'Oct-65' 'Nov-74' 'Apr-66'\n",
      " 'Jun-76' 'Feb-72' 'May-76' 'Mar-68' 'Mar-76' 'Jul-70' 'Mar-79' 'Jul-76'\n",
      " 'Jul-82' 'Sep-65' 'Apr-67' 'Oct-63' 'Feb-70' 'Jul-73' 'Feb-78' 'Nov-71'\n",
      " 'Aug-72' 'Jul-75' 'Sep-70' 'Jul-81' 'Oct-64' 'Sep-72' 'May-70' 'May-63'\n",
      " 'Feb-69' 'Nov-80' 'Jul-67' 'Apr-70' 'Nov-77' 'Nov-66' 'May-71' 'Apr-79'\n",
      " 'May-72' 'Feb-68' 'Jul-64' 'Nov-67' 'Apr-64' 'Feb-75' 'Jun-59' 'Sep-56'\n",
      " 'Jun-66' 'Jan-46' 'Mar-66' 'Jan-63' 'Dec-50' 'Jul-69' 'Jan-68' 'Nov-73'\n",
      " 'Jun-70' 'Feb-77' 'Feb-74' 'Jan-73' 'Feb-66' 'Dec-61' 'Aug-73' 'Aug-70'\n",
      " 'Sep-69' 'Sep-75' 'Dec-68' 'Nov-54' 'Oct-69' 'Dec-65' 'Apr-72' 'Nov-72'\n",
      " 'Sep-63' 'Apr-69' 'Nov-62' 'Oct-67' 'May-67' 'Nov-61' 'Feb-67' 'Nov-68'\n",
      " 'Oct-75' 'Mar-71' 'Aug-71' 'Dec-66' 'Oct-68' 'Oct-74' 'Nov-63' 'Apr-68'\n",
      " 'May-69' 'Nov-59' nan 'Oct-10' 'Dec-09' 'Nov-10' 'Jan-10' 'Dec-08'\n",
      " 'Sep-09' 'Jul-10' 'Jan-09' 'May-09' 'May-10' 'Sep-10' 'Apr-09' 'Nov-09'\n",
      " 'Apr-10' 'Mar-09' 'Feb-09' 'Aug-09' 'Oct-09' 'Jun-09' 'Jun-10' 'Jul-09'\n",
      " 'Feb-10' 'Mar-10' 'Aug-10' 'Jan-61' 'Oct-62' 'Jun-64' 'Apr-62' 'Jan-60'\n",
      " 'Sep-66' 'Mar-65' 'May-68' 'Jul-66' 'Dec-56' 'Dec-71' 'Apr-65' 'Jan-64'\n",
      " 'Jul-65' 'Jan-65' 'Jan-62' 'Aug-64' 'Jan-69' 'Oct-66' 'Jun-62' 'Dec-67'\n",
      " 'Oct-60' 'Jul-62' 'Dec-60' 'Jul-60' 'Jun-65' 'May-66' 'Oct-57' 'Aug-65'\n",
      " 'May-60' 'Jan-67' 'Nov-53' 'Oct-59' 'Jun-63' 'Mar-67' 'Jul-63' 'Nov-60'\n",
      " 'Mar-62' 'Mar-64' 'Jul-68' 'Feb-63' 'Jan-66' 'Dec-64' 'May-64' 'Oct-61'\n",
      " 'Aug-60' 'Mar-60' 'Apr-55' 'Sep-59' 'Aug-66' 'Jul-55' 'Aug-61' 'Nov-64'\n",
      " 'May-53' 'Nov-50' 'Nov-55' 'Mar-61' 'Feb-57' 'Aug-63' 'Feb-60' 'Sep-60'\n",
      " 'Feb-64' 'Dec-51' 'Nov-58' 'Aug-62' 'Oct-58' 'May-62' 'Mar-11' 'Jun-11'\n",
      " 'Dec-10' 'Oct-11' 'Sep-11' 'Jul-11' 'Apr-11' 'May-11' 'Jan-11' 'Feb-11'\n",
      " 'Aug-11' 'Apr-63' 'Nov-11' 'Dec-58' 'Jan-58' 'Jul-59' 'Jan-55' 'May-59'\n",
      " 'Aug-46' 'Apr-61' 'Jun-58' 'Jul-58' 'Jun-60' 'Jan-51' 'Dec-62' 'Mar-59'\n",
      " 'Aug-58' 'Jan-59' 'Feb-61' 'Sep-57' 'Jun-49' 'Jun-61' 'Jan-56' 'Jan-54'\n",
      " 'Jan-57' 'Jan-44' 'Oct-50' 'Jan-48' 'Jul-61' 'May-58' 'Jan-53' 'May-50'\n",
      " 'Nov-56']\n",
      "\n",
      "initial_list_status\n",
      "['f' 'w']\n",
      "\n",
      "last_pymnt_d\n",
      "['Jan-15' 'Apr-13' 'Jun-14' 'Jan-16' 'Apr-12' 'Nov-12' 'Jun-13' 'Sep-13'\n",
      " 'Jul-12' 'Oct-13' 'May-13' 'Feb-15' 'Aug-15' 'Oct-12' 'Sep-12' nan\n",
      " 'Dec-12' 'Dec-14' 'Aug-13' 'Nov-13' 'Jan-14' 'Apr-14' 'Aug-14' 'Oct-14'\n",
      " 'Aug-12' 'Jul-14' 'Jul-13' 'Apr-15' 'Feb-14' 'Sep-14' 'Jun-12' 'Feb-13'\n",
      " 'Mar-13' 'May-14' 'Mar-15' 'Jan-13' 'Dec-13' 'Feb-12' 'Mar-14' 'Sep-15'\n",
      " 'Nov-15' 'Dec-15' 'Jan-12' 'Oct-15' 'Nov-14' 'Mar-12' 'May-12' 'Jun-15'\n",
      " 'May-15' 'Jul-15' 'Dec-11' 'Nov-11' 'Oct-11' 'Sep-11' 'Aug-11' 'Jul-11'\n",
      " 'Jun-11' 'May-11' 'Apr-11' 'Mar-11' 'Feb-11' 'Jan-11' 'Dec-10' 'Nov-10'\n",
      " 'Oct-10' 'Sep-10' 'Aug-10' 'Jul-10' 'Jun-10' 'May-10' 'Apr-10' 'Mar-10'\n",
      " 'Feb-10' 'Jan-10' 'Dec-09' 'Nov-09' 'Oct-09' 'Sep-09' 'Aug-09' 'Jul-09'\n",
      " 'Jun-09' 'May-09' 'Apr-09' 'Mar-09' 'Feb-09' 'Jan-09' 'Dec-08' 'Oct-08'\n",
      " 'Aug-08' 'Jul-08' 'Sep-08' 'Jun-08' 'May-08' 'Nov-08' 'Apr-08' 'Mar-08'\n",
      " 'Feb-08' 'Jan-08' 'Dec-07']\n",
      "\n",
      "next_pymnt_d\n",
      "[nan 'Feb-16' 'Jan-16' 'Sep-13' 'Feb-14' 'May-14' 'Jun-13' 'Mar-12'\n",
      " 'Apr-12' 'May-13' 'Aug-12' 'Aug-13' 'Jun-12' 'Nov-13' 'Feb-12' 'Oct-11'\n",
      " 'Jan-13' 'Jan-14' 'Jul-13' 'Jul-15' 'Jan-12' 'Dec-12' 'Jun-11' 'Feb-13'\n",
      " 'Nov-11' 'Nov-12' 'Dec-11' 'Aug-11' 'Sep-11' 'Apr-11' 'Mar-14' 'Apr-13'\n",
      " 'Mar-11' 'Jul-12' 'Aug-14' 'Oct-13' 'Sep-12' 'May-12' 'Apr-15' 'Jul-11'\n",
      " 'Dec-15' 'Dec-13' 'Jan-11' 'Oct-12' 'Nov-14' 'Mar-13' 'Aug-15' 'Feb-15'\n",
      " 'May-15' 'Jul-14' 'Nov-15' 'Sep-14' 'Oct-15' 'May-11' 'Feb-11' 'Dec-14'\n",
      " 'Jun-15' 'Apr-14' 'Jan-15' 'Sep-15' 'Jun-14' 'Nov-10' 'Oct-10' 'Dec-10'\n",
      " 'Mar-15' 'Oct-14' 'Jul-10' 'Sep-10' 'May-10' 'Aug-10' 'Mar-10' 'Jun-10'\n",
      " 'Apr-10' 'Feb-10' 'Dec-09' 'Nov-09' 'Oct-09' 'Jan-10' 'Sep-09' 'Jun-09'\n",
      " 'Aug-09' 'Jul-09' 'May-09' 'Apr-09' 'Jan-09' 'Oct-08' 'Feb-09' 'Nov-08'\n",
      " 'Sep-08' 'Mar-09' 'Dec-08' 'Aug-08' 'Jun-08' 'Jul-08' 'Apr-08' 'May-08'\n",
      " 'Feb-08' 'Jan-08' 'Mar-08' 'Dec-07' 'Mar-16']\n",
      "\n",
      "last_credit_pull_d\n",
      "['Jan-16' 'Sep-13' 'Jan-15' 'Sep-15' 'Dec-14' 'Aug-12' 'Mar-13' 'Dec-15'\n",
      " 'Aug-13' 'Nov-12' 'Mar-14' 'Apr-15' 'May-14' 'Jul-15' 'Jul-12' 'Sep-12'\n",
      " 'May-13' 'Oct-15' 'Jun-12' 'Mar-15' 'Dec-12' 'Jul-14' 'Sep-14' 'Feb-14'\n",
      " 'Jun-15' 'Oct-13' 'Apr-14' 'Oct-14' 'Feb-13' 'Nov-15' 'Oct-12' 'Nov-13'\n",
      " 'Nov-14' 'Feb-12' 'Apr-12' 'Aug-15' 'Jun-14' 'Jan-12' 'Aug-14' 'Jun-13'\n",
      " 'Dec-13' 'May-12' 'Jan-14' 'Jul-13' 'Apr-13' 'May-15' 'Feb-15' 'Mar-12'\n",
      " 'Nov-11' 'Dec-11' 'Jan-13' 'Oct-11' 'Sep-11' 'Aug-11' 'Jul-11' 'Jun-11'\n",
      " 'May-11' 'Apr-11' 'Mar-11' 'Feb-11' 'Jan-11' 'Dec-10' 'Nov-10' 'Oct-10'\n",
      " nan 'Sep-10' 'Aug-10' 'Jul-10' 'Jun-10' 'May-10' 'Apr-10' 'Feb-10'\n",
      " 'Mar-10' 'Aug-07' 'Jan-10' 'Dec-09' 'Nov-09' 'Oct-09' 'Sep-09' 'Jul-09'\n",
      " 'Aug-09' 'Jun-09' 'May-09' 'Apr-09' 'Mar-09' 'Feb-09' 'Jan-09' 'Dec-08'\n",
      " 'Jun-08' 'Sep-08' 'May-08' 'Aug-08' 'Mar-08' 'Oct-08' 'Feb-08' 'Jan-08'\n",
      " 'Dec-07' 'Jul-08' 'Oct-07' 'Sep-07' 'Jun-07' 'May-07' 'Jul-07' 'Nov-07']\n",
      "\n",
      "application_type\n",
      "['INDIVIDUAL']\n",
      "\n"
     ]
    }
   ],
   "source": [
    "# Xử lý các biến định tính\n",
    "cat_col = []\n",
    "for x in df2.dtypes.index:\n",
    "    if df2.dtypes[x] == 'object':\n",
    "        cat_col.append(x)\n",
    "\n",
    "for col in cat_col:\n",
    "    print(col)\n",
    "    print(df2[col].unique())\n",
    "    print()"
   ]
  },
  {
   "cell_type": "code",
   "execution_count": 10,
   "metadata": {},
   "outputs": [],
   "source": [
    "# các cột url và emp_title không có ý nghĩa nên loại ra khỏi đầu vào cho mô hình\n",
    "df2 = df2.drop(columns = ['url','emp_title'])"
   ]
  },
  {
   "cell_type": "code",
   "execution_count": 11,
   "metadata": {},
   "outputs": [
    {
     "data": {
      "text/plain": [
       "0     36\n",
       "1     60\n",
       "2     36\n",
       "3     36\n",
       "4     60\n",
       "Name: term, dtype: object"
      ]
     },
     "execution_count": 11,
     "metadata": {},
     "output_type": "execute_result"
    }
   ],
   "source": [
    "# Các kỳ hạn đổi sang dạng số\n",
    "df2['term'] = df2['term'].str.replace('36 months', str(36))\n",
    "df2['term'] = df2['term'].str.replace('60 months', str(60))\n",
    "df2['term'].head(5)"
   ]
  },
  {
   "cell_type": "code",
   "execution_count": 14,
   "metadata": {},
   "outputs": [],
   "source": [
    "# Chuyển các ngày tháng sang đúng dạng datetime\n",
    "df2['earliest_cr_line'] = pd.to_datetime(df2['earliest_cr_line'],format = '%b-%y')\n",
    "#df2['issue_d'] = pd.to_datetime(df2['issue_d'],format = '%b-%y')\n",
    "df2['last_credit_pull_d'] = pd.to_datetime(df2['last_credit_pull_d'],format = '%b-%y')\n",
    "df2['next_pymnt_d'] =pd.to_datetime(df2['next_pymnt_d'],format = '%b-%y')\n",
    "df2['last_pymnt_d'] = pd.to_datetime(df2['last_pymnt_d'],format = '%b-%y')"
   ]
  },
  {
   "cell_type": "code",
   "execution_count": 15,
   "metadata": {},
   "outputs": [
    {
     "data": {
      "text/html": [
       "<div>\n",
       "<style scoped>\n",
       "    .dataframe tbody tr th:only-of-type {\n",
       "        vertical-align: middle;\n",
       "    }\n",
       "\n",
       "    .dataframe tbody tr th {\n",
       "        vertical-align: top;\n",
       "    }\n",
       "\n",
       "    .dataframe thead th {\n",
       "        text-align: right;\n",
       "    }\n",
       "</style>\n",
       "<table border=\"1\" class=\"dataframe\">\n",
       "  <thead>\n",
       "    <tr style=\"text-align: right;\">\n",
       "      <th></th>\n",
       "      <th>earliest_cr_line</th>\n",
       "      <th>last_credit_pull_d</th>\n",
       "      <th>next_pymnt_d</th>\n",
       "      <th>last_pymnt_d</th>\n",
       "    </tr>\n",
       "  </thead>\n",
       "  <tbody>\n",
       "    <tr>\n",
       "      <th>0</th>\n",
       "      <td>1985-01-01</td>\n",
       "      <td>2016-01-01</td>\n",
       "      <td>NaT</td>\n",
       "      <td>2015-01-01</td>\n",
       "    </tr>\n",
       "    <tr>\n",
       "      <th>1</th>\n",
       "      <td>1999-04-01</td>\n",
       "      <td>2013-09-01</td>\n",
       "      <td>NaT</td>\n",
       "      <td>2013-04-01</td>\n",
       "    </tr>\n",
       "    <tr>\n",
       "      <th>2</th>\n",
       "      <td>2001-11-01</td>\n",
       "      <td>2016-01-01</td>\n",
       "      <td>NaT</td>\n",
       "      <td>2014-06-01</td>\n",
       "    </tr>\n",
       "    <tr>\n",
       "      <th>3</th>\n",
       "      <td>1996-02-01</td>\n",
       "      <td>2015-01-01</td>\n",
       "      <td>NaT</td>\n",
       "      <td>2015-01-01</td>\n",
       "    </tr>\n",
       "    <tr>\n",
       "      <th>4</th>\n",
       "      <td>1996-01-01</td>\n",
       "      <td>2016-01-01</td>\n",
       "      <td>2016-02-01</td>\n",
       "      <td>2016-01-01</td>\n",
       "    </tr>\n",
       "  </tbody>\n",
       "</table>\n",
       "</div>"
      ],
      "text/plain": [
       "  earliest_cr_line last_credit_pull_d next_pymnt_d last_pymnt_d\n",
       "0       1985-01-01         2016-01-01          NaT   2015-01-01\n",
       "1       1999-04-01         2013-09-01          NaT   2013-04-01\n",
       "2       2001-11-01         2016-01-01          NaT   2014-06-01\n",
       "3       1996-02-01         2015-01-01          NaT   2015-01-01\n",
       "4       1996-01-01         2016-01-01   2016-02-01   2016-01-01"
      ]
     },
     "execution_count": 15,
     "metadata": {},
     "output_type": "execute_result"
    }
   ],
   "source": [
    "df2[['earliest_cr_line','last_credit_pull_d','next_pymnt_d','last_pymnt_d']].head()"
   ]
  },
  {
   "cell_type": "code",
   "execution_count": 35,
   "metadata": {},
   "outputs": [
    {
     "data": {
      "text/plain": [
       "Timestamp('2013-09-01 00:00:00')"
      ]
     },
     "execution_count": 35,
     "metadata": {},
     "output_type": "execute_result"
    }
   ],
   "source": [
    "df2['last_credit_pull_d'][1]"
   ]
  },
  {
   "cell_type": "code",
   "execution_count": 16,
   "metadata": {},
   "outputs": [],
   "source": [
    "# Thêm [năm của lần gần nhất] tới hạn  mức tín dụng\n",
    "df2['earliest_cr_yr'] = pd.to_datetime(df2['earliest_cr_line'], format = \"%b-%y\").dt.year"
   ]
  },
  {
   "cell_type": "code",
   "execution_count": 17,
   "metadata": {},
   "outputs": [],
   "source": [
    "# Hạn mức gần nhất sẽ nằm trong khoảng 2014-2015  \n",
    "df2 = df2[df2['earliest_cr_yr'] < 2016]"
   ]
  },
  {
   "cell_type": "code",
   "execution_count": 18,
   "metadata": {},
   "outputs": [],
   "source": [
    "# Thêm [số năm] tính từ lần cuối kiểm tra hạn mức vào bộ dữ liệu\n",
    "df2['yr_since_last_inq'] = 2016 - pd.to_datetime(df2['last_credit_pull_d'], format = \"%b-%y\").dt.year"
   ]
  },
  {
   "cell_type": "code",
   "execution_count": 19,
   "metadata": {},
   "outputs": [
    {
     "name": "stderr",
     "output_type": "stream",
     "text": [
      "C:\\Users\\OS\\AppData\\Local\\Temp\\ipykernel_12072\\2361698653.py:1: FutureWarning: The default value of regex will change from True to False in a future version.\n",
      "  df2['yrs_of_labour'] = df2['emp_length'].str.replace('\\+ years','')\n"
     ]
    }
   ],
   "source": [
    "df2['yrs_of_labour'] = df2['emp_length'].str.replace('\\+ years','')\n",
    "df2['yrs_of_labour'] = df2['yrs_of_labour'].str.replace(' years','')\n",
    "df2['yrs_of_labour'] = df2['yrs_of_labour'].str.replace(' year','')\n",
    "df2['yrs_of_labour'] = df2['yrs_of_labour'].str.replace('< 1',str(0))\n",
    "df2['yrs_of_labour'] = df2['yrs_of_labour'].replace(np.nan,0)\n",
    "\n",
    "\n",
    "df2['yrs_of_labour'] = pd.to_numeric(df2['yrs_of_labour'])"
   ]
  },
  {
   "cell_type": "code",
   "execution_count": 20,
   "metadata": {},
   "outputs": [
    {
     "data": {
      "text/plain": [
       "Current                                                223577\n",
       "Fully Paid                                             184379\n",
       "Charged Off                                             42347\n",
       "Late (31-120 days)                                       6885\n",
       "In Grace Period                                          3144\n",
       "Does not meet the credit policy. Status:Fully Paid       1957\n",
       "Late (16-30 days)                                        1213\n",
       "Default                                                   828\n",
       "Does not meet the credit policy. Status:Charged Off       757\n",
       "Name: loan_status, dtype: int64"
      ]
     },
     "execution_count": 20,
     "metadata": {},
     "output_type": "execute_result"
    }
   ],
   "source": [
    "# Các trạng thái trả nợ Current và In Grace Period khá là khó để phân loại nhóm này đang được phân loại là đang nợ tín dụng hay có điểm tín dụng tốt\n",
    "df2.loan_status.value_counts()"
   ]
  },
  {
   "cell_type": "code",
   "execution_count": 21,
   "metadata": {},
   "outputs": [
    {
     "name": "stderr",
     "output_type": "stream",
     "text": [
      "C:\\Users\\OS\\AppData\\Local\\Temp\\ipykernel_12072\\1407217375.py:9: SettingWithCopyWarning: \n",
      "A value is trying to be set on a copy of a slice from a DataFrame.\n",
      "Try using .loc[row_indexer,col_indexer] = value instead\n",
      "\n",
      "See the caveats in the documentation: https://pandas.pydata.org/pandas-docs/stable/user_guide/indexing.html#returning-a-view-versus-a-copy\n",
      "  df3['loan_ending'] = np.where(df3['loan_status'].isin(good_loan), 'good', 'bad')\n"
     ]
    }
   ],
   "source": [
    "# Loại bỏ 2 nhóm này khỏi bộ dữ liệu\n",
    "question_loan = ['Current', 'In Grace Period']\n",
    "good_loan =  ['Fully Paid', 'Does not meet the credit policy. Status:Fully Paid']\n",
    "\n",
    "#drop rows that contain ambiguous ending\n",
    "df3 = df2[df2.loan_status.isin(question_loan) == False]\n",
    "\n",
    "#create new column to classify ending\n",
    "df3['loan_ending'] = np.where(df3['loan_status'].isin(good_loan), 'good', 'bad')"
   ]
  },
  {
   "cell_type": "code",
   "execution_count": 17,
   "metadata": {},
   "outputs": [
    {
     "data": {
      "image/png": "[encoded data removed]",
      "text/plain": [
       "<Figure size 640x480 with 1 Axes>"
      ]
     },
     "metadata": {},
     "output_type": "display_data"
    }
   ],
   "source": [
    "plt.title('good vs bad loans balance')\n",
    "sns.barplot(x= df3.loan_ending.value_counts().index ,y=df3.loan_ending.value_counts().values)\n",
    "pass"
   ]
  },
  {
   "cell_type": "code",
   "execution_count": 22,
   "metadata": {},
   "outputs": [],
   "source": [
    "# Bỏ những cột có giá trị có ý nghĩa trùng nhau\n",
    "df3 = df3.drop(columns =['funded_amnt','funded_amnt_inv', 'member_id'] )"
   ]
  },
  {
   "cell_type": "code",
   "execution_count": 23,
   "metadata": {},
   "outputs": [
    {
     "data": {
      "text/plain": [
       "id                           0.000\n",
       "loan_amnt                    0.000\n",
       "term                         0.000\n",
       "int_rate                     0.000\n",
       "installment                  0.000\n",
       "grade                        0.000\n",
       "sub_grade                    0.000\n",
       "emp_length                   0.038\n",
       "home_ownership               0.000\n",
       "annual_inc                   0.000\n",
       "verification_status          0.000\n",
       "issue_d                      0.000\n",
       "loan_status                  0.000\n",
       "pymnt_plan                   0.000\n",
       "purpose                      0.000\n",
       "title                        0.000\n",
       "addr_state                   0.000\n",
       "dti                          0.000\n",
       "delinq_2yrs                  0.000\n",
       "earliest_cr_line             0.000\n",
       "inq_last_6mths               0.000\n",
       "mths_since_last_delinq       0.559\n",
       "open_acc                     0.000\n",
       "pub_rec                      0.000\n",
       "revol_bal                    0.000\n",
       "revol_util                   0.001\n",
       "total_acc                    0.000\n",
       "initial_list_status          0.000\n",
       "out_prncp                    0.000\n",
       "out_prncp_inv                0.000\n",
       "total_pymnt                  0.000\n",
       "total_pymnt_inv              0.000\n",
       "total_rec_prncp              0.000\n",
       "total_rec_int                0.000\n",
       "total_rec_late_fee           0.000\n",
       "recoveries                   0.000\n",
       "collection_recovery_fee      0.000\n",
       "last_pymnt_d                 0.002\n",
       "last_pymnt_amnt              0.000\n",
       "next_pymnt_d                 0.951\n",
       "last_credit_pull_d           0.000\n",
       "collections_12_mths_ex_med   0.000\n",
       "policy_code                  0.000\n",
       "application_type             0.000\n",
       "acc_now_delinq               0.000\n",
       "tot_coll_amt                 0.279\n",
       "tot_cur_bal                  0.279\n",
       "total_rev_hi_lim             0.279\n",
       "earliest_cr_yr               0.000\n",
       "yr_since_last_inq            0.000\n",
       "yrs_of_labour                0.000\n",
       "loan_ending                  0.000\n",
       "dtype: float64"
      ]
     },
     "execution_count": 23,
     "metadata": {},
     "output_type": "execute_result"
    }
   ],
   "source": [
    "df3.isnull().sum()/df3.shape[0]"
   ]
  },
  {
   "cell_type": "code",
   "execution_count": 24,
   "metadata": {},
   "outputs": [
    {
     "data": {
      "text/html": [
       "<div>\n",
       "<style scoped>\n",
       "    .dataframe tbody tr th:only-of-type {\n",
       "        vertical-align: middle;\n",
       "    }\n",
       "\n",
       "    .dataframe tbody tr th {\n",
       "        vertical-align: top;\n",
       "    }\n",
       "\n",
       "    .dataframe thead th {\n",
       "        text-align: right;\n",
       "    }\n",
       "</style>\n",
       "<table border=\"1\" class=\"dataframe\">\n",
       "  <thead>\n",
       "    <tr style=\"text-align: right;\">\n",
       "      <th></th>\n",
       "      <th>tot_coll_amt</th>\n",
       "      <th>tot_cur_bal</th>\n",
       "      <th>total_rev_hi_lim</th>\n",
       "    </tr>\n",
       "  </thead>\n",
       "  <tbody>\n",
       "    <tr>\n",
       "      <th>count</th>\n",
       "      <td>171897.000</td>\n",
       "      <td>171897.000</td>\n",
       "      <td>171897.000</td>\n",
       "    </tr>\n",
       "    <tr>\n",
       "      <th>mean</th>\n",
       "      <td>200.701</td>\n",
       "      <td>136573.632</td>\n",
       "      <td>29072.961</td>\n",
       "    </tr>\n",
       "    <tr>\n",
       "      <th>std</th>\n",
       "      <td>22135.127</td>\n",
       "      <td>150161.418</td>\n",
       "      <td>28491.999</td>\n",
       "    </tr>\n",
       "    <tr>\n",
       "      <th>min</th>\n",
       "      <td>0.000</td>\n",
       "      <td>0.000</td>\n",
       "      <td>0.000</td>\n",
       "    </tr>\n",
       "    <tr>\n",
       "      <th>25%</th>\n",
       "      <td>0.000</td>\n",
       "      <td>27975.000</td>\n",
       "      <td>13200.000</td>\n",
       "    </tr>\n",
       "    <tr>\n",
       "      <th>50%</th>\n",
       "      <td>0.000</td>\n",
       "      <td>79265.000</td>\n",
       "      <td>22000.000</td>\n",
       "    </tr>\n",
       "    <tr>\n",
       "      <th>75%</th>\n",
       "      <td>0.000</td>\n",
       "      <td>206393.000</td>\n",
       "      <td>36100.000</td>\n",
       "    </tr>\n",
       "    <tr>\n",
       "      <th>max</th>\n",
       "      <td>9152545.000</td>\n",
       "      <td>8000078.000</td>\n",
       "      <td>2013133.000</td>\n",
       "    </tr>\n",
       "  </tbody>\n",
       "</table>\n",
       "</div>"
      ],
      "text/plain": [
       "       tot_coll_amt  tot_cur_bal  total_rev_hi_lim\n",
       "count    171897.000   171897.000        171897.000\n",
       "mean        200.701   136573.632         29072.961\n",
       "std       22135.127   150161.418         28491.999\n",
       "min           0.000        0.000             0.000\n",
       "25%           0.000    27975.000         13200.000\n",
       "50%           0.000    79265.000         22000.000\n",
       "75%           0.000   206393.000         36100.000\n",
       "max     9152545.000  8000078.000       2013133.000"
      ]
     },
     "execution_count": 24,
     "metadata": {},
     "output_type": "execute_result"
    }
   ],
   "source": [
    "# 3 cột 'tot_coll_amt','tot_cur_bal','total_rev_hi_lim' có số lượng null khá lớn, chiếm trên khoảng 28%\n",
    "df3[['tot_coll_amt','tot_cur_bal','total_rev_hi_lim']].describe()"
   ]
  },
  {
   "cell_type": "code",
   "execution_count": 25,
   "metadata": {},
   "outputs": [
    {
     "data": {
      "image/png": "[encoded data removed]",
      "text/plain": [
       "<Figure size 1000x500 with 1 Axes>"
      ]
     },
     "metadata": {},
     "output_type": "display_data"
    },
    {
     "data": {
      "image/png": "[encoded data removed]",
      "text/plain": [
       "<Figure size 1000x500 with 1 Axes>"
      ]
     },
     "metadata": {},
     "output_type": "display_data"
    },
    {
     "data": {
      "image/png": "[encoded data removed]",
      "text/plain": [
       "<Figure size 1000x500 with 1 Axes>"
      ]
     },
     "metadata": {},
     "output_type": "display_data"
    }
   ],
   "source": [
    "# Đồ thị minh họa 3 cột dữ liệu\n",
    "plt.figure(figsize = (10,5))\n",
    "sns.kdeplot(data = df3[(df3['tot_coll_amt']< 100000) &(df3['tot_coll_amt'] >0) ], x ='tot_coll_amt', hue ='loan_ending')\n",
    "\n",
    "plt.figure(figsize = (10,5))\n",
    "sns.kdeplot(data= df3[df3['tot_cur_bal'] < 1000000], x='tot_cur_bal', hue='loan_ending')\n",
    "\n",
    "plt.figure(figsize = (10,5))\n",
    "sns.kdeplot(data= df3[df3['total_rev_hi_lim'] < 30000], x='total_rev_hi_lim', hue='loan_ending')\n",
    "\n",
    "pass"
   ]
  },
  {
   "attachments": {},
   "cell_type": "markdown",
   "metadata": {},
   "source": [
    "### Kết luận\n",
    "<ul>\n",
    "    <li> Cột tot_toll_amt có lượng giá trị 0 chiếm ít nhất 75% lượng giá trị\n",
    "    <li> Giá trị trung bình và giá trị tối đa chênh lệch khá nhiều, nên phân bố dữ liệu không chuẩn\n",
    "    <li> Biểu đồ phân phối giá trị chia theo chất lượng khoản vay giống nhau, nên không có ý nghĩa thống kê khi đưa vào phân loại\n",
    "<ul>\n",
    "=>\n",
    "\n",
    "Nên loại 3 biến này ra khỏi mô hình"
   ]
  },
  {
   "cell_type": "code",
   "execution_count": 26,
   "metadata": {},
   "outputs": [],
   "source": [
    "df3 = df3.drop(columns = ['tot_coll_amt','tot_cur_bal','total_rev_hi_lim'])"
   ]
  },
  {
   "cell_type": "code",
   "execution_count": 27,
   "metadata": {},
   "outputs": [],
   "source": [
    "df3 = df3.drop(columns = 'emp_length')"
   ]
  },
  {
   "cell_type": "code",
   "execution_count": 28,
   "metadata": {},
   "outputs": [],
   "source": [
    "df3['yr_since_last_inq'] = df3['yr_since_last_inq'].replace(np.nan,0)"
   ]
  },
  {
   "cell_type": "code",
   "execution_count": 29,
   "metadata": {},
   "outputs": [
    {
     "data": {
      "text/plain": [
       "id                                 0\n",
       "loan_amnt                          0\n",
       "term                               0\n",
       "int_rate                           0\n",
       "installment                        0\n",
       "grade                              0\n",
       "sub_grade                          0\n",
       "home_ownership                     0\n",
       "annual_inc                         0\n",
       "verification_status                0\n",
       "issue_d                            0\n",
       "loan_status                        0\n",
       "pymnt_plan                         0\n",
       "purpose                            0\n",
       "title                             15\n",
       "addr_state                         0\n",
       "dti                                0\n",
       "delinq_2yrs                        0\n",
       "earliest_cr_line                   0\n",
       "inq_last_6mths                     0\n",
       "mths_since_last_delinq        133249\n",
       "open_acc                           0\n",
       "pub_rec                            0\n",
       "revol_bal                          0\n",
       "revol_util                       203\n",
       "total_acc                          0\n",
       "initial_list_status                0\n",
       "out_prncp                          0\n",
       "out_prncp_inv                      0\n",
       "total_pymnt                        0\n",
       "total_pymnt_inv                    0\n",
       "total_rec_prncp                    0\n",
       "total_rec_int                      0\n",
       "total_rec_late_fee                 0\n",
       "recoveries                         0\n",
       "collection_recovery_fee            0\n",
       "last_pymnt_d                     375\n",
       "last_pymnt_amnt                    0\n",
       "next_pymnt_d                  226726\n",
       "last_credit_pull_d                22\n",
       "collections_12_mths_ex_med       116\n",
       "policy_code                        0\n",
       "application_type                   0\n",
       "acc_now_delinq                     0\n",
       "earliest_cr_yr                     0\n",
       "yr_since_last_inq                  0\n",
       "yrs_of_labour                      0\n",
       "loan_ending                        0\n",
       "dtype: int64"
      ]
     },
     "execution_count": 29,
     "metadata": {},
     "output_type": "execute_result"
    }
   ],
   "source": [
    "df3.isnull().sum()"
   ]
  },
  {
   "attachments": {},
   "cell_type": "markdown",
   "metadata": {},
   "source": [
    "<li> Do số lượng missing ở 2 cột mths_since_last_deling và next_pymnt_d khá lớn nên ta sẽ bỏ [cột] dữ liệu này\n",
    "<li> Đối với cột title do không phải là dữ liệu quan trọng nên tương tự ta bỏ [cột] dữ liệu này\n",
    "<li> Đối với các cột còn lại do số lượng missing thấp nên ta sẽ bỏ các [hàng] chứa missing"
   ]
  },
  {
   "cell_type": "code",
   "execution_count": 30,
   "metadata": {},
   "outputs": [],
   "source": [
    "df3 = df3.drop(columns =['mths_since_last_delinq','next_pymnt_d','title','loan_status'] )\n",
    "df3 = df3.dropna()"
   ]
  },
  {
   "cell_type": "code",
   "execution_count": 32,
   "metadata": {},
   "outputs": [],
   "source": [
    "df3.to_csv('E:\\learn st new\\Credit score\\loan_data_preprocess.csv', index= False)"
   ]
  }
 ],
 "metadata": {
  "kernelspec": {
   "display_name": "Python 3",
   "language": "python",
   "name": "python3"
  },
  "language_info": {
   "codemirror_mode": {
    "name": "ipython",
    "version": 3
   },
   "file_extension": ".py",
   "mimetype": "text/x-python",
   "name": "python",
   "nbconvert_exporter": "python",
   "pygments_lexer": "ipython3",
   "version": "3.10.10"
  },
  "orig_nbformat": 4
 },
 "nbformat": 4,
 "nbformat_minor": 2
}
